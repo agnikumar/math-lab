{
 "cells": [
  {
   "cell_type": "code",
   "execution_count": 1,
   "metadata": {},
   "outputs": [],
   "source": [
    "import warnings\n",
    "warnings.filterwarnings('ignore')"
   ]
  },
  {
   "cell_type": "code",
   "execution_count": 2,
   "metadata": {},
   "outputs": [],
   "source": [
    "import numpy as np\n",
    "import pandas as pd"
   ]
  },
  {
   "cell_type": "code",
   "execution_count": 3,
   "metadata": {},
   "outputs": [],
   "source": [
    "import math\n",
    "import random\n",
    "import re\n",
    "from collections import Counter"
   ]
  },
  {
   "cell_type": "code",
   "execution_count": 4,
   "metadata": {},
   "outputs": [],
   "source": [
    "import matplotlib\n",
    "import matplotlib.pyplot as plt\n",
    "import seaborn as sns\n",
    "matplotlib.rcParams['figure.dpi'] = 125"
   ]
  },
  {
   "cell_type": "markdown",
   "metadata": {},
   "source": [
    "### Constructing typical English incidence matrix\n",
    "• Entries are probabilities with which two letters typically follow each other  \n",
    "• Bigram frequencies used are from http://practicalcryptography.com/media/cryptanalysis/files/english_bigrams_1.txt"
   ]
  },
  {
   "cell_type": "code",
   "execution_count": 5,
   "metadata": {},
   "outputs": [
    {
     "data": {
      "text/html": [
       "<div>\n",
       "<style scoped>\n",
       "    .dataframe tbody tr th:only-of-type {\n",
       "        vertical-align: middle;\n",
       "    }\n",
       "\n",
       "    .dataframe tbody tr th {\n",
       "        vertical-align: top;\n",
       "    }\n",
       "\n",
       "    .dataframe thead th {\n",
       "        text-align: right;\n",
       "    }\n",
       "</style>\n",
       "<table border=\"1\" class=\"dataframe\">\n",
       "  <thead>\n",
       "    <tr style=\"text-align: right;\">\n",
       "      <th></th>\n",
       "      <th>bigram</th>\n",
       "      <th>frequency</th>\n",
       "      <th>first</th>\n",
       "      <th>second</th>\n",
       "      <th>probability</th>\n",
       "    </tr>\n",
       "  </thead>\n",
       "  <tbody>\n",
       "    <tr>\n",
       "      <th>0</th>\n",
       "      <td>TH</td>\n",
       "      <td>116997844</td>\n",
       "      <td>T</td>\n",
       "      <td>H</td>\n",
       "      <td>0.027057</td>\n",
       "    </tr>\n",
       "    <tr>\n",
       "      <th>1</th>\n",
       "      <td>HE</td>\n",
       "      <td>100689263</td>\n",
       "      <td>H</td>\n",
       "      <td>E</td>\n",
       "      <td>0.023285</td>\n",
       "    </tr>\n",
       "    <tr>\n",
       "      <th>2</th>\n",
       "      <td>IN</td>\n",
       "      <td>87674002</td>\n",
       "      <td>I</td>\n",
       "      <td>N</td>\n",
       "      <td>0.020276</td>\n",
       "    </tr>\n",
       "    <tr>\n",
       "      <th>3</th>\n",
       "      <td>ER</td>\n",
       "      <td>77134382</td>\n",
       "      <td>E</td>\n",
       "      <td>R</td>\n",
       "      <td>0.017838</td>\n",
       "    </tr>\n",
       "    <tr>\n",
       "      <th>4</th>\n",
       "      <td>AN</td>\n",
       "      <td>69775179</td>\n",
       "      <td>A</td>\n",
       "      <td>N</td>\n",
       "      <td>0.016136</td>\n",
       "    </tr>\n",
       "  </tbody>\n",
       "</table>\n",
       "</div>"
      ],
      "text/plain": [
       "  bigram  frequency first second  probability\n",
       "0     TH  116997844     T      H     0.027057\n",
       "1     HE  100689263     H      E     0.023285\n",
       "2     IN   87674002     I      N     0.020276\n",
       "3     ER   77134382     E      R     0.017838\n",
       "4     AN   69775179     A      N     0.016136"
      ]
     },
     "execution_count": 5,
     "metadata": {},
     "output_type": "execute_result"
    }
   ],
   "source": [
    "bigram_frequencies = pd.read_csv('english_bigrams.txt', sep=' ', header=None)\n",
    "bigram_frequencies.columns = ['bigram', 'frequency']\n",
    "bigram_frequencies['first'] = bigram_frequencies.bigram.str[0]\n",
    "bigram_frequencies['second'] = bigram_frequencies.bigram.str[1]\n",
    "bigram_frequencies['probability'] = bigram_frequencies.frequency/bigram_frequencies.frequency.sum()\n",
    "bigram_frequencies.head()"
   ]
  },
  {
   "cell_type": "code",
   "execution_count": 6,
   "metadata": {},
   "outputs": [
    {
     "data": {
      "text/html": [
       "<div>\n",
       "<style scoped>\n",
       "    .dataframe tbody tr th:only-of-type {\n",
       "        vertical-align: middle;\n",
       "    }\n",
       "\n",
       "    .dataframe tbody tr th {\n",
       "        vertical-align: top;\n",
       "    }\n",
       "\n",
       "    .dataframe thead th {\n",
       "        text-align: right;\n",
       "    }\n",
       "</style>\n",
       "<table border=\"1\" class=\"dataframe\">\n",
       "  <thead>\n",
       "    <tr style=\"text-align: right;\">\n",
       "      <th></th>\n",
       "      <th>first</th>\n",
       "      <th>second</th>\n",
       "      <th>frequency</th>\n",
       "    </tr>\n",
       "  </thead>\n",
       "  <tbody>\n",
       "    <tr>\n",
       "      <th>323</th>\n",
       "      <td>A</td>\n",
       "      <td>A</td>\n",
       "      <td>1721143</td>\n",
       "    </tr>\n",
       "    <tr>\n",
       "      <th>141</th>\n",
       "      <td>A</td>\n",
       "      <td>B</td>\n",
       "      <td>8775582</td>\n",
       "    </tr>\n",
       "    <tr>\n",
       "      <th>71</th>\n",
       "      <td>A</td>\n",
       "      <td>C</td>\n",
       "      <td>17904683</td>\n",
       "    </tr>\n",
       "    <tr>\n",
       "      <th>89</th>\n",
       "      <td>A</td>\n",
       "      <td>D</td>\n",
       "      <td>14877234</td>\n",
       "    </tr>\n",
       "    <tr>\n",
       "      <th>383</th>\n",
       "      <td>A</td>\n",
       "      <td>E</td>\n",
       "      <td>815963</td>\n",
       "    </tr>\n",
       "  </tbody>\n",
       "</table>\n",
       "</div>"
      ],
      "text/plain": [
       "    first second  frequency\n",
       "323     A      A    1721143\n",
       "141     A      B    8775582\n",
       "71      A      C   17904683\n",
       "89      A      D   14877234\n",
       "383     A      E     815963"
      ]
     },
     "execution_count": 6,
     "metadata": {},
     "output_type": "execute_result"
    }
   ],
   "source": [
    "bigram_frequencies_sorted = bigram_frequencies.sort_values('bigram') \n",
    "bigram_frequencies_sorted_freq = bigram_frequencies_sorted[['first', 'second', 'frequency']]\n",
    "bigram_frequencies_sorted_prob = bigram_frequencies_sorted[['first', 'second', 'probability']]\n",
    "bigram_frequencies_sorted_freq.head()"
   ]
  },
  {
   "cell_type": "code",
   "execution_count": 7,
   "metadata": {},
   "outputs": [],
   "source": [
    "# probabilities \n",
    "typical_incidence_matrix_prob = bigram_frequencies_sorted_prob.set_index(['first', 'second']).unstack(0).T\n",
    "typical_incidence_matrix_prob = typical_incidence_matrix_prob.iloc[1:] # del first row\n",
    "typical_incidence_matrix_prob.drop(typical_incidence_matrix_prob.columns[0], axis=1, inplace=True) # del first col\n",
    "#print(typical_incidence_matrix_prob.shape) # 26-by-26\n",
    "#typical_incidence_matrix_prob.head()"
   ]
  },
  {
   "cell_type": "code",
   "execution_count": 8,
   "metadata": {},
   "outputs": [],
   "source": [
    "# frequencies\n",
    "typical_incidence_matrix_freq = bigram_frequencies_sorted_freq.set_index(['first', 'second']).unstack(0).T\n",
    "typical_incidence_matrix_freq = typical_incidence_matrix_freq.iloc[1:] # del first row\n",
    "typical_incidence_matrix_freq.drop(typical_incidence_matrix_freq.columns[0], axis=1, inplace=True) # del first col\n",
    "#typical_incidence_matrix_freq.head()"
   ]
  },
  {
   "cell_type": "code",
   "execution_count": 9,
   "metadata": {},
   "outputs": [
    {
     "data": {
      "text/html": [
       "<div>\n",
       "<style scoped>\n",
       "    .dataframe tbody tr th:only-of-type {\n",
       "        vertical-align: middle;\n",
       "    }\n",
       "\n",
       "    .dataframe tbody tr th {\n",
       "        vertical-align: top;\n",
       "    }\n",
       "\n",
       "    .dataframe thead th {\n",
       "        text-align: right;\n",
       "    }\n",
       "</style>\n",
       "<table border=\"1\" class=\"dataframe\">\n",
       "  <thead>\n",
       "    <tr style=\"text-align: right;\">\n",
       "      <th></th>\n",
       "      <th>A</th>\n",
       "      <th>B</th>\n",
       "      <th>C</th>\n",
       "      <th>D</th>\n",
       "      <th>E</th>\n",
       "      <th>F</th>\n",
       "      <th>G</th>\n",
       "      <th>H</th>\n",
       "      <th>I</th>\n",
       "      <th>J</th>\n",
       "      <th>...</th>\n",
       "      <th>Q</th>\n",
       "      <th>R</th>\n",
       "      <th>S</th>\n",
       "      <th>T</th>\n",
       "      <th>U</th>\n",
       "      <th>V</th>\n",
       "      <th>W</th>\n",
       "      <th>X</th>\n",
       "      <th>Y</th>\n",
       "      <th>Z</th>\n",
       "    </tr>\n",
       "  </thead>\n",
       "  <tbody>\n",
       "    <tr>\n",
       "      <th>A</th>\n",
       "      <td>1721143.0</td>\n",
       "      <td>8775582.0</td>\n",
       "      <td>17904683.0</td>\n",
       "      <td>14877234.0</td>\n",
       "      <td>815963.0</td>\n",
       "      <td>5702567.0</td>\n",
       "      <td>8809266.0</td>\n",
       "      <td>2225270.0</td>\n",
       "      <td>13974919.0</td>\n",
       "      <td>870262.0</td>\n",
       "      <td>...</td>\n",
       "      <td>315068.0</td>\n",
       "      <td>42353262.0</td>\n",
       "      <td>37773878.0</td>\n",
       "      <td>48274564.0</td>\n",
       "      <td>4884168.0</td>\n",
       "      <td>8288885.0</td>\n",
       "      <td>3918960.0</td>\n",
       "      <td>660826.0</td>\n",
       "      <td>11523416.0</td>\n",
       "      <td>768359.0</td>\n",
       "    </tr>\n",
       "    <tr>\n",
       "      <th>B</th>\n",
       "      <td>8867461.0</td>\n",
       "      <td>689158.0</td>\n",
       "      <td>320380.0</td>\n",
       "      <td>141752.0</td>\n",
       "      <td>19468489.0</td>\n",
       "      <td>75352.0</td>\n",
       "      <td>40516.0</td>\n",
       "      <td>154489.0</td>\n",
       "      <td>4356462.0</td>\n",
       "      <td>282608.0</td>\n",
       "      <td>...</td>\n",
       "      <td>5513.0</td>\n",
       "      <td>4621080.0</td>\n",
       "      <td>1409672.0</td>\n",
       "      <td>428276.0</td>\n",
       "      <td>8113271.0</td>\n",
       "      <td>120081.0</td>\n",
       "      <td>140189.0</td>\n",
       "      <td>3021.0</td>\n",
       "      <td>5232074.0</td>\n",
       "      <td>8132.0</td>\n",
       "    </tr>\n",
       "    <tr>\n",
       "      <th>C</th>\n",
       "      <td>19930754.0</td>\n",
       "      <td>298053.0</td>\n",
       "      <td>3026492.0</td>\n",
       "      <td>358435.0</td>\n",
       "      <td>19803619.0</td>\n",
       "      <td>267630.0</td>\n",
       "      <td>181590.0</td>\n",
       "      <td>20132750.0</td>\n",
       "      <td>8446084.0</td>\n",
       "      <td>41526.0</td>\n",
       "      <td>...</td>\n",
       "      <td>157546.0</td>\n",
       "      <td>5514347.0</td>\n",
       "      <td>1381608.0</td>\n",
       "      <td>11888752.0</td>\n",
       "      <td>4604045.0</td>\n",
       "      <td>94224.0</td>\n",
       "      <td>257253.0</td>\n",
       "      <td>5300.0</td>\n",
       "      <td>1145316.0</td>\n",
       "      <td>57914.0</td>\n",
       "    </tr>\n",
       "    <tr>\n",
       "      <th>D</th>\n",
       "      <td>17584055.0</td>\n",
       "      <td>6106719.0</td>\n",
       "      <td>3782481.0</td>\n",
       "      <td>4001275.0</td>\n",
       "      <td>27029835.0</td>\n",
       "      <td>4033878.0</td>\n",
       "      <td>2442139.0</td>\n",
       "      <td>4585765.0</td>\n",
       "      <td>21673998.0</td>\n",
       "      <td>799366.0</td>\n",
       "      <td>...</td>\n",
       "      <td>283314.0</td>\n",
       "      <td>5701879.0</td>\n",
       "      <td>10429887.0</td>\n",
       "      <td>15759673.0</td>\n",
       "      <td>5861311.0</td>\n",
       "      <td>1238565.0</td>\n",
       "      <td>4906814.0</td>\n",
       "      <td>27413.0</td>\n",
       "      <td>2218040.0</td>\n",
       "      <td>98038.0</td>\n",
       "    </tr>\n",
       "    <tr>\n",
       "      <th>E</th>\n",
       "      <td>43329810.0</td>\n",
       "      <td>9738798.0</td>\n",
       "      <td>25775798.0</td>\n",
       "      <td>46647960.0</td>\n",
       "      <td>18497942.0</td>\n",
       "      <td>13252227.0</td>\n",
       "      <td>8286463.0</td>\n",
       "      <td>7559141.0</td>\n",
       "      <td>16026915.0</td>\n",
       "      <td>1256993.0</td>\n",
       "      <td>...</td>\n",
       "      <td>1461436.0</td>\n",
       "      <td>77134382.0</td>\n",
       "      <td>57070453.0</td>\n",
       "      <td>32872552.0</td>\n",
       "      <td>3674130.0</td>\n",
       "      <td>10574011.0</td>\n",
       "      <td>14776406.0</td>\n",
       "      <td>5649363.0</td>\n",
       "      <td>7528342.0</td>\n",
       "      <td>465466.0</td>\n",
       "    </tr>\n",
       "  </tbody>\n",
       "</table>\n",
       "<p>5 rows × 26 columns</p>\n",
       "</div>"
      ],
      "text/plain": [
       "            A          B           C           D           E           F  \\\n",
       "A   1721143.0  8775582.0  17904683.0  14877234.0    815963.0   5702567.0   \n",
       "B   8867461.0   689158.0    320380.0    141752.0  19468489.0     75352.0   \n",
       "C  19930754.0   298053.0   3026492.0    358435.0  19803619.0    267630.0   \n",
       "D  17584055.0  6106719.0   3782481.0   4001275.0  27029835.0   4033878.0   \n",
       "E  43329810.0  9738798.0  25775798.0  46647960.0  18497942.0  13252227.0   \n",
       "\n",
       "           G           H           I          J  ...          Q           R  \\\n",
       "A  8809266.0   2225270.0  13974919.0   870262.0  ...   315068.0  42353262.0   \n",
       "B    40516.0    154489.0   4356462.0   282608.0  ...     5513.0   4621080.0   \n",
       "C   181590.0  20132750.0   8446084.0    41526.0  ...   157546.0   5514347.0   \n",
       "D  2442139.0   4585765.0  21673998.0   799366.0  ...   283314.0   5701879.0   \n",
       "E  8286463.0   7559141.0  16026915.0  1256993.0  ...  1461436.0  77134382.0   \n",
       "\n",
       "            S           T          U           V           W          X  \\\n",
       "A  37773878.0  48274564.0  4884168.0   8288885.0   3918960.0   660826.0   \n",
       "B   1409672.0    428276.0  8113271.0    120081.0    140189.0     3021.0   \n",
       "C   1381608.0  11888752.0  4604045.0     94224.0    257253.0     5300.0   \n",
       "D  10429887.0  15759673.0  5861311.0   1238565.0   4906814.0    27413.0   \n",
       "E  57070453.0  32872552.0  3674130.0  10574011.0  14776406.0  5649363.0   \n",
       "\n",
       "            Y         Z  \n",
       "A  11523416.0  768359.0  \n",
       "B   5232074.0    8132.0  \n",
       "C   1145316.0   57914.0  \n",
       "D   2218040.0   98038.0  \n",
       "E   7528342.0  465466.0  \n",
       "\n",
       "[5 rows x 26 columns]"
      ]
     },
     "execution_count": 9,
     "metadata": {},
     "output_type": "execute_result"
    }
   ],
   "source": [
    "letters = list(map(chr, range(65, 91))) # uppercase alphabet\n",
    "typical_incidence_matrix_freq_clean = pd.DataFrame(typical_incidence_matrix_freq.values, index=letters, columns=letters)\n",
    "typical_incidence_matrix_freq_arr = typical_incidence_matrix_freq_clean.values\n",
    "#print(typical_incidence_matrix_freq_arr)\n",
    "\n",
    "typical_incidence_matrix_freq_clean.at['N', 'A'] = 23547524 # bug fix (cell was becoming NaN)\n",
    "\n",
    "typical_incidence_matrix_freq_clean.to_csv('results/english_incidence_matrix.csv') \n",
    "typical_incidence_matrix_freq_clean.head() # official English frequency bigram incidence matrix"
   ]
  },
  {
   "cell_type": "markdown",
   "metadata": {},
   "source": [
    "### Constructing arbitrary incidence matrices"
   ]
  },
  {
   "cell_type": "markdown",
   "metadata": {},
   "source": [
    "Creating an incidence matrix for a given text, with probability values"
   ]
  },
  {
   "cell_type": "code",
   "execution_count": 10,
   "metadata": {},
   "outputs": [],
   "source": [
    "def create_template_matrix(text):\n",
    "    index = sorted(list(set(text)))\n",
    "    columns = index\n",
    "    num_unique_letters = len(columns)\n",
    "    data = np.zeros((num_unique_letters, num_unique_letters))\n",
    "    template_matrix = pd.DataFrame(data, index=index, columns=columns)\n",
    "    return template_matrix\n",
    "\n",
    "# testing\n",
    "#text = 'MATHEMATICS'\n",
    "#print(create_template_matrix(text))"
   ]
  },
  {
   "cell_type": "code",
   "execution_count": 11,
   "metadata": {},
   "outputs": [],
   "source": [
    "def get_bigrams(text):\n",
    "    return re.findall(r'(?=([a-zA-Z]{2}))', text)\n",
    "\n",
    "def get_bigram_frequencies(text):\n",
    "    bigrams = get_bigrams(text)\n",
    "    counts = Counter(bigrams)\n",
    "    df_counts = pd.DataFrame.from_dict(counts, orient='index').reset_index()\n",
    "    df_counts = df_counts.rename(columns={'index':'bigram', 0:'frequency'})\n",
    "    df_counts['first'] = df_counts.bigram.str[0]\n",
    "    df_counts['second'] = df_counts.bigram.str[1]\n",
    "    df_counts = df_counts.sort_values('bigram') \n",
    "    return df_counts\n",
    "\n",
    "def get_incidence_matrix(text):\n",
    "    incidence_matrix = create_template_matrix(text)\n",
    "    df_bigram_frequencies = get_bigram_frequencies(text)\n",
    "    for index, row in df_bigram_frequencies.iterrows():\n",
    "        first, second = row['first'], row['second']\n",
    "        incidence_matrix.at[first, second] = row['frequency']\n",
    "    incidence_matrix_probs = incidence_matrix.apply(lambda x: x / incidence_matrix.values.sum())\n",
    "    incidence_matrix_probs_arr = incidence_matrix_probs.values\n",
    "    return incidence_matrix_probs_arr\n",
    "\n",
    "# testing\n",
    "#text = 'MATHEMATICS'\n",
    "#print(get_bigrams(text))\n",
    "#print(get_bigram_frequencies(text))\n",
    "#print(get_incidence_matrix(text))"
   ]
  },
  {
   "cell_type": "markdown",
   "metadata": {},
   "source": [
    "Retrieving part of English incidency matrix, with frequency values"
   ]
  },
  {
   "cell_type": "code",
   "execution_count": 12,
   "metadata": {},
   "outputs": [],
   "source": [
    "def get_subpart_english_incidence_matrix(text, typical_incidence_matrix): # typical_incidence_matrix = entire English bigram matrix\n",
    "    subpart_matrix = create_template_matrix(text)\n",
    "    for index, row in subpart_matrix.iterrows():\n",
    "        for col in subpart_matrix.columns:\n",
    "            #print(index, col, typical_incidence_matrix.at[index, col])\n",
    "            subpart_matrix.at[index, col] = typical_incidence_matrix.at[index, col]\n",
    "    subpart_matrix_probs = subpart_matrix.apply(lambda x: x / subpart_matrix.values.sum())\n",
    "    subpart_matrix_probs_arr = subpart_matrix_probs.values\n",
    "    return subpart_matrix_probs\n",
    "    \n",
    "# testing\n",
    "#text = 'MATHEMATICS'\n",
    "#print(get_subpart_english_incidence_matrix(text, typical_incidence_matrix_freq_clean))"
   ]
  },
  {
   "cell_type": "markdown",
   "metadata": {},
   "source": [
    "### Measuring typical-ness of text\n",
    "Getting Euclidean distance between text's incidence matrix and its associated subpart typical English incidence matrix"
   ]
  },
  {
   "cell_type": "code",
   "execution_count": 13,
   "metadata": {},
   "outputs": [],
   "source": [
    "def get_dist_from_typical(text, english_bigram_matrix): # english_bigram_matrix is the entire English bigram matrix \n",
    "    text_incidence_matrix = get_incidence_matrix(text)\n",
    "    #print(text_incidence_matrix)\n",
    "    typical_subpart_incidence_matrix = get_subpart_english_incidence_matrix(text, english_bigram_matrix)\n",
    "    #print(typical_subpart_incidence_matrix)\n",
    "    dist = np.linalg.norm(text_incidence_matrix - typical_subpart_incidence_matrix)\n",
    "    return dist\n",
    "\n",
    "# testing\n",
    "#text = 'CAB'\n",
    "#english_bigram_matrix = typical_incidence_matrix_freq_clean\n",
    "#print(get_dist_from_typical(text, english_bigram_matrix))"
   ]
  },
  {
   "cell_type": "markdown",
   "metadata": {},
   "source": [
    "### Constructing encoding and decoding schemes\n",
    "• Substitution ciphers are random permutations of English letters and spaces  \n",
    "• Decoding involves repeatedly randomly switching two letters of encoded string, with the goal of minimizing distance from typical incidence matrix"
   ]
  },
  {
   "cell_type": "code",
   "execution_count": 14,
   "metadata": {},
   "outputs": [],
   "source": [
    "def encode(text):\n",
    "    return ''.join(random.sample(text, len(text))) # random permutation of text\n",
    "\n",
    "def swap(s, i, j):\n",
    "    lst = list(s)\n",
    "    lst[i], lst[j] = lst[j], lst[i]\n",
    "    return ''.join(lst)\n",
    "\n",
    "def exchange(text):\n",
    "    (i, j) = tuple(random.sample(set(range(len(text))), 2))\n",
    "    #print((i,j))\n",
    "    return swap(text, i, j) # exchanges two random characters in string\n",
    "\n",
    "# testing\n",
    "#text = 'THANKFUL'\n",
    "#encoded_text = encode(text)\n",
    "#exchanged_encoded_text = exchange(encoded_text)\n",
    "#print(encoded_text)\n",
    "#print(exchanged_encoded_text)"
   ]
  },
  {
   "cell_type": "code",
   "execution_count": 15,
   "metadata": {},
   "outputs": [],
   "source": [
    "def decode(english_bigram_matrix, text, encoded_text, switch_prob): \n",
    "    cur_text = encoded_text\n",
    "    cur_dist_from_typical = math.inf\n",
    "    num_exchanges = 0\n",
    "    \n",
    "    while cur_text != text: # possible for loop to run many times for long texts\n",
    "        exchanged_encoded_text = exchange(cur_text)\n",
    "        #print('current text:', cur_text)\n",
    "       # print('exchanged encoded text:', exchanged_encoded_text)\n",
    "        exchanged_dist_from_typical = get_dist_from_typical(exchanged_encoded_text, english_bigram_matrix) # only text's letters involved\n",
    "        if exchanged_dist_from_typical <= cur_dist_from_typical:\n",
    "            cur_dist_from_typical = exchanged_dist_from_typical\n",
    "            cur_text = exchanged_encoded_text\n",
    "            num_exchanges += 1\n",
    "        else:\n",
    "            drawn_prob = random.random()\n",
    "            #print('drawn probability:', drawn_prob)\n",
    "            if drawn_prob <= switch_prob: \n",
    "                cur_dist_from_typical = exchanged_dist_from_typical \n",
    "                cur_text = exchanged_encoded_text \n",
    "            else:\n",
    "                cur_dist_from_typical = get_dist_from_typical(cur_text, english_bigram_matrix)\n",
    "                #print('no exchange')\n",
    "        \n",
    "        #print('distance from typical (projected):', exchanged_dist_from_typical)\n",
    "        #print('distance from typical (actual):', cur_dist_from_typical)\n",
    "        #print('# exchanges:', num_exchanges)\n",
    "        \n",
    "    return num_exchanges # returns the number of informed exchanges needed to resolve to original"
   ]
  },
  {
   "cell_type": "code",
   "execution_count": 16,
   "metadata": {
    "scrolled": true
   },
   "outputs": [
    {
     "name": "stdout",
     "output_type": "stream",
     "text": [
      "text: YES\n",
      "encoded text: SEY\n",
      "3 exchanges\n"
     ]
    }
   ],
   "source": [
    "# testing decoding\n",
    "english_bigram_matrix = typical_incidence_matrix_freq_clean\n",
    "text = 'YES'\n",
    "encoded_text = encode(text)\n",
    "switch_prob = 0.5 # later, observe over multiple values\n",
    "\n",
    "print('text:', text)\n",
    "print('encoded text:', encoded_text)\n",
    "print(decode(english_bigram_matrix, text, encoded_text, switch_prob), 'exchanges')"
   ]
  },
  {
   "cell_type": "markdown",
   "metadata": {},
   "source": [
    "### Gathering heterograms\n",
    "• Dataset obtained from https://figshare.com/articles/Data_and_tools_for_studying_isograms/5245810/1  \n",
    "• First three columns are isogramy (order of isogram), word length, word text"
   ]
  },
  {
   "cell_type": "code",
   "execution_count": 17,
   "metadata": {},
   "outputs": [
    {
     "name": "stdout",
     "output_type": "stream",
     "text": [
      "(110985, 3)\n"
     ]
    },
    {
     "data": {
      "text/html": [
       "<div>\n",
       "<style scoped>\n",
       "    .dataframe tbody tr th:only-of-type {\n",
       "        vertical-align: middle;\n",
       "    }\n",
       "\n",
       "    .dataframe tbody tr th {\n",
       "        vertical-align: top;\n",
       "    }\n",
       "\n",
       "    .dataframe thead th {\n",
       "        text-align: right;\n",
       "    }\n",
       "</style>\n",
       "<table border=\"1\" class=\"dataframe\">\n",
       "  <thead>\n",
       "    <tr style=\"text-align: right;\">\n",
       "      <th></th>\n",
       "      <th>order</th>\n",
       "      <th>length</th>\n",
       "      <th>word</th>\n",
       "    </tr>\n",
       "  </thead>\n",
       "  <tbody>\n",
       "    <tr>\n",
       "      <th>0</th>\n",
       "      <td>1</td>\n",
       "      <td>2</td>\n",
       "      <td>AH</td>\n",
       "    </tr>\n",
       "    <tr>\n",
       "      <th>1</th>\n",
       "      <td>1</td>\n",
       "      <td>3</td>\n",
       "      <td>YES</td>\n",
       "    </tr>\n",
       "    <tr>\n",
       "      <th>2</th>\n",
       "      <td>1</td>\n",
       "      <td>3</td>\n",
       "      <td>SHE</td>\n",
       "    </tr>\n",
       "    <tr>\n",
       "      <th>4</th>\n",
       "      <td>1</td>\n",
       "      <td>4</td>\n",
       "      <td>ABER</td>\n",
       "    </tr>\n",
       "    <tr>\n",
       "      <th>5</th>\n",
       "      <td>1</td>\n",
       "      <td>5</td>\n",
       "      <td>ABOUT</td>\n",
       "    </tr>\n",
       "  </tbody>\n",
       "</table>\n",
       "</div>"
      ],
      "text/plain": [
       "   order  length   word\n",
       "0      1       2     AH\n",
       "1      1       3    YES\n",
       "2      1       3    SHE\n",
       "4      1       4   ABER\n",
       "5      1       5  ABOUT"
      ]
     },
     "execution_count": 17,
     "metadata": {},
     "output_type": "execute_result"
    }
   ],
   "source": [
    "isograms = pd.read_csv('bnc_isograms.csv', sep='\\\\t', engine='python', header=None)\n",
    "isograms = isograms.iloc[:, 0:3]\n",
    "isograms.columns = ['order', 'length', 'word']\n",
    "isograms['order'] = isograms['order'].str[1:]\n",
    "isograms['order'] = isograms['order'].astype(int)\n",
    "isograms['length'] = isograms['length'].astype(int)\n",
    "\n",
    "heterograms = isograms[isograms['order'] == 1]\n",
    "heterograms = heterograms[heterograms['length'] > 1] # since exchanges involve two letters\n",
    "heterograms['word'] = heterograms['word'].str.upper() \n",
    "\n",
    "print(heterograms.shape)\n",
    "heterograms.head()"
   ]
  },
  {
   "cell_type": "code",
   "execution_count": 18,
   "metadata": {},
   "outputs": [
    {
     "name": "stdout",
     "output_type": "stream",
     "text": [
      "(14, 2)\n"
     ]
    },
    {
     "data": {
      "text/html": [
       "<div>\n",
       "<style scoped>\n",
       "    .dataframe tbody tr th:only-of-type {\n",
       "        vertical-align: middle;\n",
       "    }\n",
       "\n",
       "    .dataframe tbody tr th {\n",
       "        vertical-align: top;\n",
       "    }\n",
       "\n",
       "    .dataframe thead th {\n",
       "        text-align: right;\n",
       "    }\n",
       "</style>\n",
       "<table border=\"1\" class=\"dataframe\">\n",
       "  <thead>\n",
       "    <tr style=\"text-align: right;\">\n",
       "      <th></th>\n",
       "      <th>length</th>\n",
       "      <th>frequency</th>\n",
       "    </tr>\n",
       "  </thead>\n",
       "  <tbody>\n",
       "    <tr>\n",
       "      <th>8</th>\n",
       "      <td>2</td>\n",
       "      <td>1936</td>\n",
       "    </tr>\n",
       "    <tr>\n",
       "      <th>5</th>\n",
       "      <td>3</td>\n",
       "      <td>8441</td>\n",
       "    </tr>\n",
       "    <tr>\n",
       "      <th>3</th>\n",
       "      <td>4</td>\n",
       "      <td>14334</td>\n",
       "    </tr>\n",
       "    <tr>\n",
       "      <th>1</th>\n",
       "      <td>5</td>\n",
       "      <td>20621</td>\n",
       "    </tr>\n",
       "    <tr>\n",
       "      <th>0</th>\n",
       "      <td>6</td>\n",
       "      <td>22682</td>\n",
       "    </tr>\n",
       "    <tr>\n",
       "      <th>2</th>\n",
       "      <td>7</td>\n",
       "      <td>18882</td>\n",
       "    </tr>\n",
       "    <tr>\n",
       "      <th>4</th>\n",
       "      <td>8</td>\n",
       "      <td>12762</td>\n",
       "    </tr>\n",
       "    <tr>\n",
       "      <th>6</th>\n",
       "      <td>9</td>\n",
       "      <td>6880</td>\n",
       "    </tr>\n",
       "    <tr>\n",
       "      <th>7</th>\n",
       "      <td>10</td>\n",
       "      <td>2972</td>\n",
       "    </tr>\n",
       "    <tr>\n",
       "      <th>9</th>\n",
       "      <td>11</td>\n",
       "      <td>1057</td>\n",
       "    </tr>\n",
       "    <tr>\n",
       "      <th>10</th>\n",
       "      <td>12</td>\n",
       "      <td>323</td>\n",
       "    </tr>\n",
       "    <tr>\n",
       "      <th>11</th>\n",
       "      <td>13</td>\n",
       "      <td>85</td>\n",
       "    </tr>\n",
       "    <tr>\n",
       "      <th>12</th>\n",
       "      <td>14</td>\n",
       "      <td>7</td>\n",
       "    </tr>\n",
       "    <tr>\n",
       "      <th>13</th>\n",
       "      <td>15</td>\n",
       "      <td>3</td>\n",
       "    </tr>\n",
       "  </tbody>\n",
       "</table>\n",
       "</div>"
      ],
      "text/plain": [
       "    length  frequency\n",
       "8        2       1936\n",
       "5        3       8441\n",
       "3        4      14334\n",
       "1        5      20621\n",
       "0        6      22682\n",
       "2        7      18882\n",
       "4        8      12762\n",
       "6        9       6880\n",
       "7       10       2972\n",
       "9       11       1057\n",
       "10      12        323\n",
       "11      13         85\n",
       "12      14          7\n",
       "13      15          3"
      ]
     },
     "execution_count": 18,
     "metadata": {},
     "output_type": "execute_result"
    }
   ],
   "source": [
    "heterograms_counts = heterograms['length'].value_counts().to_dict()\n",
    "heterograms_counts_df = pd.DataFrame(heterograms_counts, index=['frequency']).transpose()\n",
    "heterograms_counts_df.reset_index(inplace=True)\n",
    "heterograms_counts_df.columns = ['length', 'frequency']\n",
    "heterograms_counts_df = heterograms_counts_df.sort_values(by=['length'])\n",
    "\n",
    "print(heterograms_counts_df.shape)\n",
    "heterograms_counts_df.head(heterograms['length'].max())"
   ]
  },
  {
   "cell_type": "code",
   "execution_count": 19,
   "metadata": {},
   "outputs": [
    {
     "data": {
      "image/png": "[encoded data removed]",
      "text/plain": [
       "<Figure size 750x500 with 1 Axes>"
      ]
     },
     "metadata": {},
     "output_type": "display_data"
    }
   ],
   "source": [
    "sns.set_style('whitegrid')  \n",
    "histogram = sns.countplot(y='length', data=heterograms)\n",
    "histogram.set(xlabel='frequency')\n",
    "histogram.set(ylabel='length')\n",
    "plt.title('Distribution of Text Lengths')\n",
    "plt.show()"
   ]
  },
  {
   "cell_type": "markdown",
   "metadata": {},
   "source": [
    "### Running decode algorithm on heterograms"
   ]
  },
  {
   "cell_type": "code",
   "execution_count": 20,
   "metadata": {},
   "outputs": [],
   "source": [
    "for i in range(heterograms['length'].min(), heterograms['length'].max()):\n",
    "    #frames = {i:dat for i, dat in heterograms.groupby('length')}\n",
    "    frames = {i:dat.head(10) for i, dat in heterograms.groupby('length')} # smaller experiment\n",
    "\n",
    "# testing\n",
    "#frames[2].head()"
   ]
  },
  {
   "cell_type": "code",
   "execution_count": 21,
   "metadata": {},
   "outputs": [
    {
     "name": "stdout",
     "output_type": "stream",
     "text": [
      "    order  length word  prob  exchanges\n",
      "1       1       3  YES   0.5          0\n",
      "2       1       3  SHE   0.5          2\n",
      "11      1       3  AHD   0.5          0\n",
      "13      1       3  AIR   0.5          2\n",
      "14      1       3  ALF   0.5         17\n",
      "20      1       3  AND   0.5          6\n",
      "26      1       3  ANG   0.5          2\n",
      "31      1       3  ARD   0.5          0\n",
      "33      1       3  ARD   0.5          2\n",
      "37      1       3  ARE   0.5          3\n"
     ]
    }
   ],
   "source": [
    "def run_decode(length_df, switch_prob, english_bigram_matrix):\n",
    "    length_df['prob'] = switch_prob\n",
    "    length_df['exchanges'] = length_df['word'].map(lambda text: decode(english_bigram_matrix, text, encode(text), switch_prob))\n",
    "    #length_df.to_csv('results/length_{}_{}.csv'.format(length_df.copy()['length'].iloc[0], switch_prob), index=False)\n",
    "    return length_df\n",
    "\n",
    "# testing\n",
    "english_bigram_matrix = typical_incidence_matrix_freq_clean\n",
    "switch_prob = 0.5 # later, observe over multiple values\n",
    "output = run_decode(frames[3].head(10), switch_prob, english_bigram_matrix)\n",
    "print(output)"
   ]
  },
  {
   "cell_type": "markdown",
   "metadata": {},
   "source": [
    "### Testing on small heterograms"
   ]
  },
  {
   "cell_type": "code",
   "execution_count": 22,
   "metadata": {},
   "outputs": [],
   "source": [
    "english_bigram_matrix = typical_incidence_matrix_freq_clean"
   ]
  },
  {
   "cell_type": "code",
   "execution_count": 23,
   "metadata": {},
   "outputs": [
    {
     "name": "stdout",
     "output_type": "stream",
     "text": [
      "{'YES': 0.5507979939188145, 'YSE': 0.6830484312963767, 'SEY': 0.6831034235613836, 'SYE': 0.8177820719660394, 'ESY': 0.576125357368193, 'EYS': 0.7914808016728341}\n"
     ]
    }
   ],
   "source": [
    "# YES\n",
    "perms = ['YES', 'YSE', 'SEY', 'SYE', 'ESY', 'EYS']\n",
    "dist_dict = {}\n",
    "for perm in perms: \n",
    "    val = get_dist_from_typical(perm, english_bigram_matrix)\n",
    "    dist_dict[perm] = val\n",
    "print(dist_dict)"
   ]
  },
  {
   "cell_type": "code",
   "execution_count": 24,
   "metadata": {},
   "outputs": [
    {
     "name": "stdout",
     "output_type": "stream",
     "text": [
      "{'SHE': 0.5260773061975906, 'SEH': 0.7643949397350033, 'HES': 0.34441708585856623, 'HSE': 0.7773684141280384, 'ESH': 0.6692724827880663, 'EHS': 0.8356893421903072}\n"
     ]
    }
   ],
   "source": [
    "# SHE\n",
    "perms = ['SHE', 'SEH', 'HES', 'HSE', 'ESH', 'EHS']\n",
    "dist_dict = {}\n",
    "for perm in perms: \n",
    "    val = get_dist_from_typical(perm, english_bigram_matrix)\n",
    "    dist_dict[perm] = val\n",
    "print(dist_dict)"
   ]
  },
  {
   "cell_type": "code",
   "execution_count": 25,
   "metadata": {},
   "outputs": [
    {
     "name": "stdout",
     "output_type": "stream",
     "text": [
      "{'AIR': 0.7137423785475938, 'ARI': 0.4453812583071097, 'RAI': 0.6248156262467381, 'RIA': 0.6522000482910099, 'IRA': 0.6375640612193044, 'IAR': 0.5675280805016133}\n"
     ]
    }
   ],
   "source": [
    "# AIR\n",
    "perms = ['AIR', 'ARI', 'RAI', 'RIA', 'IRA', 'IAR']\n",
    "dist_dict = {}\n",
    "for perm in perms: \n",
    "    val = get_dist_from_typical(perm, english_bigram_matrix)\n",
    "    dist_dict[perm] = val\n",
    "print(dist_dict)"
   ]
  },
  {
   "cell_type": "markdown",
   "metadata": {},
   "source": [
    "#### Decoding"
   ]
  },
  {
   "cell_type": "code",
   "execution_count": 26,
   "metadata": {},
   "outputs": [
    {
     "name": "stdout",
     "output_type": "stream",
     "text": [
      "{'YES': [0, 0, 0, 0, 0, 0, 0, 0, 0, 0, 0, 0, 0, 0, 0, 0, 0, 0, 0, 0, 0, 0, 0, 0, 0, 0, 0, 0, 0, 0, 0, 0, 0, 0, 0, 0, 0, 0, 0, 0, 0, 0, 0, 0, 0, 0, 0, 0, 0, 0, 0, 0, 0, 0, 0, 0, 0, 0, 0, 0, 0, 0, 0, 0, 0, 0, 0, 0, 0, 0, 0, 0, 0, 0, 0, 0, 0, 0, 0, 0, 0, 0, 0, 0, 0, 0, 0, 0, 0, 0, 0, 0, 0, 0, 0, 0, 0, 0, 0, 0], 'YSE': [1, 1, 1, 2, 1, 1, 2, 2, 3, 2, 3, 1, 3, 1, 4, 1, 1, 4, 1, 4, 1, 1, 1, 1, 2, 1, 1, 1, 1, 5, 1, 3, 1, 1, 4, 6, 5, 1, 1, 1, 1, 4, 1, 1, 1, 1, 6, 1, 2, 1, 2, 6, 1, 1, 5, 1, 1, 4, 1, 2, 3, 1, 2, 3, 4, 4, 1, 4, 4, 6, 12, 1, 1, 2, 2, 3, 1, 1, 7, 4, 6, 2, 2, 1, 5, 4, 1, 3, 4, 4, 1, 1, 1, 6, 4, 3, 3, 3, 1, 3], 'SEY': [3, 4, 6, 5, 6, 3, 5, 6, 2, 6, 4, 1, 1, 1, 1, 1, 1, 3, 1, 1, 5, 3, 1, 7, 4, 3, 4, 1, 3, 4, 3, 3, 1, 1, 1, 1, 9, 5, 3, 1, 4, 4, 1, 4, 4, 3, 3, 1, 4, 3, 4, 3, 1, 1, 5, 2, 1, 4, 5, 1, 3, 2, 1, 3, 1, 4, 1, 1, 1, 3, 1, 4, 1, 1, 3, 2, 1, 4, 1, 2, 3, 1, 1, 2, 3, 6, 7, 1, 11, 3, 1, 3, 3, 4, 1, 5, 4, 2, 1, 1], 'SYE': [2, 3, 2, 4, 6, 5, 2, 2, 3, 2, 2, 2, 2, 2, 2, 2, 4, 3, 4, 3, 2, 2, 9, 3, 2, 2, 5, 4, 6, 3, 2, 2, 2, 4, 3, 9, 2, 8, 2, 8, 8, 5, 2, 2, 2, 13, 2, 3, 6, 2, 3, 3, 2, 3, 2, 7, 4, 6, 2, 3, 2, 7, 5, 4, 3, 2, 4, 7, 2, 12, 3, 8, 3, 2, 9, 2, 2, 4, 4, 3, 2, 2, 8, 2, 4, 5, 2, 2, 4, 3, 2, 5, 4, 2, 3, 3, 5, 3, 3, 2], 'ESY': [2, 4, 3, 2, 4, 2, 6, 5, 7, 8, 2, 3, 3, 2, 4, 4, 4, 2, 3, 6, 6, 5, 2, 4, 2, 2, 2, 4, 2, 2, 5, 6, 3, 3, 9, 3, 6, 4, 9, 2, 6, 2, 6, 3, 3, 2, 10, 4, 2, 2, 3, 11, 2, 2, 2, 3, 4, 2, 3, 7, 2, 2, 4, 5, 3, 2, 6, 4, 3, 7, 4, 6, 3, 3, 3, 3, 3, 2, 5, 9, 2, 4, 4, 7, 4, 2, 4, 2, 2, 3, 2, 3, 4, 2, 2, 2, 5, 5, 3, 3], 'EYS': [3, 5, 3, 6, 3, 4, 7, 7, 1, 2, 3, 2, 5, 1, 2, 2, 1, 4, 3, 1, 1, 1, 1, 2, 1, 4, 3, 1, 2, 1, 2, 2, 1, 1, 2, 1, 2, 2, 5, 3, 1, 1, 1, 2, 1, 3, 6, 2, 1, 3, 7, 1, 3, 6, 1, 3, 2, 1, 3, 1, 4, 1, 1, 7, 5, 4, 1, 1, 3, 5, 4, 7, 3, 1, 3, 3, 4, 3, 1, 3, 1, 4, 1, 1, 3, 1, 1, 3, 1, 4, 2, 3, 3, 5, 3, 1, 3, 2, 3, 2]}\n"
     ]
    }
   ],
   "source": [
    "# YES\n",
    "perms = ['YES', 'YSE', 'SEY', 'SYE', 'ESY', 'EYS']\n",
    "switch_prob = 0.5\n",
    "\n",
    "decode_dict = {'YES':[], 'YSE':[], 'SEY':[], 'SYE':[], 'ESY':[], 'EYS':[]}\n",
    "for i in range(100):\n",
    "    for perm in perms: \n",
    "        encoded_perm = perm\n",
    "        val = decode(english_bigram_matrix, 'YES', encoded_perm, switch_prob)\n",
    "        decode_dict[perm].append(val)\n",
    "print(decode_dict)"
   ]
  },
  {
   "cell_type": "code",
   "execution_count": 27,
   "metadata": {},
   "outputs": [
    {
     "name": "stdout",
     "output_type": "stream",
     "text": [
      "{'SHE': [0, 0, 0, 0, 0, 0, 0, 0, 0, 0, 0, 0, 0, 0, 0, 0, 0, 0, 0, 0, 0, 0, 0, 0, 0, 0, 0, 0, 0, 0, 0, 0, 0, 0, 0, 0, 0, 0, 0, 0, 0, 0, 0, 0, 0, 0, 0, 0, 0, 0, 0, 0, 0, 0, 0, 0, 0, 0, 0, 0, 0, 0, 0, 0, 0, 0, 0, 0, 0, 0, 0, 0, 0, 0, 0, 0, 0, 0, 0, 0, 0, 0, 0, 0, 0, 0, 0, 0, 0, 0, 0, 0, 0, 0, 0, 0, 0, 0, 0, 0], 'SEH': [3, 4, 7, 2, 3, 7, 3, 4, 2, 2, 12, 2, 9, 3, 2, 5, 2, 3, 5, 4, 2, 4, 1, 6, 1, 1, 3, 1, 1, 1, 3, 2, 3, 2, 1, 1, 4, 2, 4, 2, 4, 1, 3, 1, 7, 7, 6, 2, 7, 11, 4, 4, 1, 1, 5, 4, 4, 12, 3, 3, 3, 5, 2, 4, 5, 2, 2, 5, 1, 1, 6, 3, 2, 2, 2, 2, 4, 1, 1, 2, 2, 4, 5, 4, 10, 1, 1, 4, 2, 2, 1, 1, 1, 2, 1, 2, 2, 5, 4, 1], 'HES': [8, 7, 10, 3, 2, 4, 5, 10, 2, 3, 2, 2, 2, 4, 8, 2, 3, 9, 2, 3, 2, 4, 3, 2, 2, 2, 6, 3, 2, 6, 5, 3, 6, 3, 4, 3, 2, 3, 6, 3, 2, 2, 2, 2, 4, 2, 4, 4, 2, 4, 4, 3, 2, 3, 3, 4, 8, 2, 4, 9, 2, 5, 2, 3, 4, 2, 2, 3, 3, 2, 2, 2, 2, 2, 3, 2, 3, 3, 4, 3, 2, 4, 2, 4, 4, 3, 8, 22, 7, 2, 2, 4, 3, 5, 2, 2, 2, 5, 3, 3], 'HSE': [4, 3, 1, 5, 2, 2, 1, 2, 3, 4, 1, 3, 1, 3, 10, 3, 2, 4, 1, 3, 1, 2, 4, 1, 5, 4, 4, 6, 2, 3, 4, 1, 5, 3, 4, 5, 5, 1, 3, 4, 6, 2, 2, 4, 11, 8, 1, 2, 4, 1, 1, 2, 4, 9, 2, 2, 3, 1, 2, 2, 3, 1, 4, 1, 5, 2, 1, 6, 3, 2, 9, 8, 3, 2, 1, 2, 3, 1, 3, 3, 2, 4, 3, 6, 3, 3, 1, 4, 1, 3, 1, 3, 2, 8, 1, 16, 3, 3, 1, 12], 'ESH': [5, 2, 4, 3, 2, 2, 3, 2, 3, 2, 8, 4, 3, 6, 3, 3, 2, 2, 13, 4, 7, 3, 2, 3, 2, 7, 7, 3, 5, 3, 2, 15, 5, 6, 13, 8, 7, 5, 3, 2, 3, 6, 2, 2, 7, 5, 2, 2, 2, 2, 3, 3, 5, 7, 2, 9, 4, 2, 4, 2, 3, 4, 2, 7, 5, 2, 5, 5, 2, 2, 6, 3, 4, 4, 2, 2, 5, 4, 4, 6, 4, 2, 2, 4, 2, 2, 2, 2, 6, 2, 2, 4, 7, 2, 2, 3, 2, 5, 3, 9], 'EHS': [2, 4, 2, 1, 1, 2, 3, 1, 2, 1, 2, 1, 2, 6, 6, 1, 1, 1, 1, 4, 2, 1, 1, 1, 6, 2, 1, 3, 5, 1, 1, 1, 1, 3, 2, 2, 4, 1, 3, 3, 4, 1, 1, 1, 5, 2, 3, 5, 8, 3, 4, 1, 6, 3, 5, 3, 6, 4, 4, 4, 3, 1, 1, 3, 3, 3, 1, 2, 2, 3, 2, 5, 1, 9, 1, 2, 3, 2, 6, 1, 1, 1, 4, 1, 7, 1, 1, 12, 5, 2, 1, 2, 2, 3, 1, 3, 1, 4, 15, 3]}\n"
     ]
    }
   ],
   "source": [
    "# SHE\n",
    "perms = ['SHE', 'SEH', 'HES', 'HSE', 'ESH', 'EHS']\n",
    "switch_prob = 0.5\n",
    "\n",
    "decode_dict = {'SHE':[], 'SEH':[], 'HES':[], 'HSE':[], 'ESH':[], 'EHS':[]}\n",
    "for i in range(100):\n",
    "    for perm in perms: \n",
    "        encoded_perm = perm #encode(perm)\n",
    "        val = decode(english_bigram_matrix, 'SHE', encoded_perm, switch_prob)\n",
    "        decode_dict[perm].append(val)\n",
    "print(decode_dict)"
   ]
  },
  {
   "cell_type": "code",
   "execution_count": 28,
   "metadata": {},
   "outputs": [
    {
     "name": "stdout",
     "output_type": "stream",
     "text": [
      "{'AIR': [0, 0, 0, 0, 0, 0, 0, 0, 0, 0, 0, 0, 0, 0, 0, 0, 0, 0, 0, 0, 0, 0, 0, 0, 0, 0, 0, 0, 0, 0, 0, 0, 0, 0, 0, 0, 0, 0, 0, 0, 0, 0, 0, 0, 0, 0, 0, 0, 0, 0, 0, 0, 0, 0, 0, 0, 0, 0, 0, 0, 0, 0, 0, 0, 0, 0, 0, 0, 0, 0, 0, 0, 0, 0, 0, 0, 0, 0, 0, 0, 0, 0, 0, 0, 0, 0, 0, 0, 0, 0, 0, 0, 0, 0, 0, 0, 0, 0, 0, 0], 'ARI': [1, 1, 5, 1, 3, 2, 4, 1, 1, 1, 5, 1, 6, 8, 9, 6, 1, 7, 1, 1, 2, 1, 4, 3, 1, 1, 1, 3, 1, 1, 2, 10, 3, 9, 5, 1, 1, 4, 1, 3, 1, 2, 3, 1, 5, 4, 3, 1, 10, 2, 3, 10, 3, 2, 2, 1, 1, 2, 1, 1, 3, 1, 4, 1, 1, 4, 1, 2, 5, 5, 8, 6, 1, 1, 1, 1, 1, 5, 1, 3, 1, 9, 8, 2, 2, 1, 6, 2, 5, 5, 1, 1, 1, 1, 1, 1, 2, 1, 1, 1], 'RAI': [5, 5, 4, 4, 1, 5, 1, 6, 1, 6, 3, 7, 6, 1, 2, 3, 1, 1, 3, 1, 1, 4, 4, 1, 7, 1, 11, 1, 2, 6, 1, 1, 1, 2, 2, 1, 1, 1, 1, 1, 4, 4, 3, 3, 2, 2, 3, 4, 3, 1, 4, 5, 3, 1, 2, 10, 4, 3, 3, 5, 9, 3, 7, 3, 10, 1, 1, 4, 1, 1, 2, 7, 5, 6, 10, 10, 1, 4, 1, 4, 3, 1, 7, 2, 3, 5, 11, 5, 1, 1, 4, 4, 1, 3, 1, 3, 1, 4, 4, 7], 'RIA': [4, 1, 4, 3, 1, 2, 5, 1, 5, 3, 2, 1, 1, 3, 4, 1, 5, 4, 1, 2, 6, 2, 2, 4, 5, 2, 5, 1, 2, 1, 6, 1, 4, 6, 3, 3, 1, 1, 7, 1, 1, 4, 1, 4, 5, 5, 1, 5, 4, 1, 6, 1, 1, 2, 1, 1, 2, 4, 4, 1, 2, 2, 4, 1, 3, 10, 1, 1, 1, 11, 4, 1, 2, 2, 3, 2, 6, 1, 1, 2, 2, 1, 3, 2, 11, 1, 3, 9, 3, 6, 2, 3, 5, 2, 1, 5, 4, 2, 3, 1], 'IRA': [3, 1, 4, 2, 2, 3, 3, 3, 5, 4, 1, 4, 1, 10, 4, 1, 4, 4, 3, 6, 6, 4, 10, 3, 6, 7, 1, 6, 4, 7, 5, 1, 4, 2, 2, 1, 3, 5, 3, 1, 3, 5, 3, 1, 1, 11, 8, 5, 2, 3, 12, 5, 1, 5, 1, 5, 3, 3, 6, 1, 4, 5, 9, 4, 8, 2, 1, 6, 10, 5, 1, 1, 9, 3, 5, 1, 3, 3, 1, 3, 11, 2, 3, 1, 2, 7, 1, 5, 2, 2, 16, 2, 1, 4, 4, 1, 2, 3, 5, 5], 'IAR': [5, 4, 16, 2, 1, 1, 1, 1, 4, 4, 3, 1, 1, 2, 3, 2, 3, 1, 6, 1, 1, 9, 1, 2, 2, 1, 1, 8, 1, 3, 4, 1, 1, 1, 1, 5, 4, 4, 2, 1, 1, 8, 1, 2, 2, 9, 2, 1, 1, 2, 1, 6, 3, 1, 3, 5, 1, 4, 8, 1, 1, 1, 7, 1, 1, 1, 1, 4, 1, 2, 4, 10, 1, 4, 1, 1, 1, 1, 6, 2, 8, 8, 8, 5, 1, 6, 4, 1, 6, 1, 1, 5, 1, 1, 2, 6, 6, 1, 2, 3]}\n"
     ]
    }
   ],
   "source": [
    "# AIR\n",
    "perms = ['AIR', 'ARI', 'RAI', 'RIA', 'IRA', 'IAR']\n",
    "switch_prob = 0.5\n",
    "\n",
    "decode_dict = {'AIR':[], 'ARI':[], 'RAI':[], 'RIA':[], 'IRA':[], 'IAR':[]}\n",
    "for i in range(100):\n",
    "    for perm in perms: \n",
    "        encoded_perm = perm #encode(perm)\n",
    "        val = decode(english_bigram_matrix, 'AIR', encoded_perm, switch_prob)\n",
    "        decode_dict[perm].append(val)\n",
    "print(decode_dict)"
   ]
  },
  {
   "cell_type": "code",
   "execution_count": null,
   "metadata": {},
   "outputs": [],
   "source": []
  }
 ],
 "metadata": {
  "kernelspec": {
   "display_name": "Python 3",
   "language": "python",
   "name": "python3"
  },
  "language_info": {
   "codemirror_mode": {
    "name": "ipython",
    "version": 3
   },
   "file_extension": ".py",
   "mimetype": "text/x-python",
   "name": "python",
   "nbconvert_exporter": "python",
   "pygments_lexer": "ipython3",
   "version": "3.7.3"
  }
 },
 "nbformat": 4,
 "nbformat_minor": 2
}
