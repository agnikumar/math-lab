{
 "cells": [
  {
   "cell_type": "code",
   "execution_count": 1,
   "metadata": {},
   "outputs": [],
   "source": [
    "import numpy as np\n",
    "import pandas as pd"
   ]
  },
  {
   "cell_type": "code",
   "execution_count": 2,
   "metadata": {},
   "outputs": [],
   "source": [
    "import matplotlib\n",
    "import matplotlib.pyplot as plt\n",
    "import seaborn as sns\n",
    "matplotlib.rcParams['figure.dpi'] = 125"
   ]
  },
  {
   "cell_type": "markdown",
   "metadata": {},
   "source": [
    "### Perturbing polynomials"
   ]
  },
  {
   "cell_type": "markdown",
   "metadata": {},
   "source": [
    "Analyzing perturbed coefficients and roots of\n",
    "$$p(x) = (x-1)(x-2)(x-3)(x-4)(x-5)(x-6)(x-7)(x-8)(x-9)(x-10)$$\n",
    "Expanding, we have\n",
    "$$p(x) = x^{10} - 55 x^9 + 1320 x^8 - 18150 x^7 + 157773 x^6 - 902055 x^5 + 3416930 x^4 - 8409500 x^3 + 12753576 x^2 - 10628640 x + 3628800$$\n",
    "The roots are:"
   ]
  },
  {
   "cell_type": "code",
   "execution_count": 3,
   "metadata": {},
   "outputs": [
    {
     "name": "stdout",
     "output_type": "stream",
     "text": [
      "[10.  9.  8.  7.  6.  5.  4.  3.  2.  1.]\n"
     ]
    }
   ],
   "source": [
    "coeff = [1, -55, 1320, -18150, 157773, -902055, 3416930, -8409500, 12753576, -10628640, 3628800]\n",
    "roots = np.roots(coeff)\n",
    "print(roots)"
   ]
  },
  {
   "cell_type": "code",
   "execution_count": 4,
   "metadata": {},
   "outputs": [
    {
     "name": "stdout",
     "output_type": "stream",
     "text": [
      "[0, 1e-10, 3.1622776601683795e-10, 1e-09, 3.1622776601683795e-09, 1e-08, 3.162277660168379e-08, 1e-07, 3.162277660168379e-07, 1e-06, 3.162277660168379e-06, 1e-05, 3.1622776601683795e-05, 0.0001, 0.00031622776601683794, 0.001, 0.0031622776601683794, 0.01, 0.03162277660168379, 0.1, 0.31622776601683794, 1.0, 3.1622776601683795]\n"
     ]
    }
   ],
   "source": [
    "#a_exp = list(range(-10, 1, 0.5)) # consecutive numbers\n",
    "a_exp = list(np.arange(-10, 1, 0.5)) # consecutive numbers\n",
    "a_vals = [0] + list(map(lambda x:pow(10, x), a_exp))\n",
    "print(a_vals)"
   ]
  },
  {
   "cell_type": "markdown",
   "metadata": {},
   "source": [
    "Perturbing coefficients"
   ]
  },
  {
   "cell_type": "code",
   "execution_count": 5,
   "metadata": {},
   "outputs": [
    {
     "name": "stdout",
     "output_type": "stream",
     "text": [
      "[-55, 1320, -18150, 157773, -902055, 3416930, -8409500, 12753576, -10628640, 3628800]\n"
     ]
    }
   ],
   "source": [
    "coeff_ck = coeff[1:]\n",
    "print(coeff_ck)"
   ]
  },
  {
   "cell_type": "code",
   "execution_count": 6,
   "metadata": {},
   "outputs": [],
   "source": [
    "def perturb_coeff(a, coeff):\n",
    "    coeff_perturbed = []\n",
    "    for c_k in coeff:\n",
    "        e_k = np.random.normal(0, 1) # mu = 0, sigma = 1\n",
    "        coeff_perturbed.append(c_k*(1 + a*e_k))\n",
    "    return coeff_perturbed\n",
    "\n",
    "def dist(coeff_ck, new_coeff_ck):\n",
    "    return [i - j for i, j in zip(new_coeff_ck, coeff_ck)]\n",
    "\n",
    "def roots_perturb_coeff(perturb_coeff):\n",
    "    perturb_coeff_full = [1] + perturb_coeff\n",
    "    return np.roots(perturb_coeff_full)\n",
    "\n",
    "def real_roots(roots):\n",
    "    return list(roots.real[abs(roots.imag)<1e-5])"
   ]
  },
  {
   "cell_type": "code",
   "execution_count": 7,
   "metadata": {},
   "outputs": [
    {
     "name": "stdout",
     "output_type": "stream",
     "text": [
      "perturbed coefficients: [429.9368712515161, 13443.255642243525, -235703.7822975627, -1980738.1811876427, 625193.3770237551, -5892986.773035933, 47796512.834744535, 8836684.397663027, 74121617.86772738, -6867995.775048606] \n",
      "\n",
      "real roots of perturbed polynomial: [-394.36531472381085, -45.907186465290486, 16.80250148635323, -7.36065722449376, 2.701714752355583, 0.09118380462356256]\n"
     ]
    }
   ],
   "source": [
    "# testing\n",
    "\n",
    "example_a = 10\n",
    "example_perturb_coeff = perturb_coeff(example_a, coeff_ck)\n",
    "example_roots = roots_perturb_coeff(example_perturb_coeff)\n",
    "example_real_roots = real_roots(example_roots)\n",
    "print('perturbed coefficients:', example_perturb_coeff, '\\n')\n",
    "#print('all roots of perturbed polynomial:', example_roots, '\\n')\n",
    "print('real roots of perturbed polynomial:', example_real_roots)"
   ]
  },
  {
   "cell_type": "markdown",
   "metadata": {},
   "source": [
    "### Plots"
   ]
  },
  {
   "cell_type": "code",
   "execution_count": 8,
   "metadata": {},
   "outputs": [
    {
     "name": "stdout",
     "output_type": "stream",
     "text": [
      "(23, 13)\n"
     ]
    },
    {
     "data": {
      "text/html": [
       "<div>\n",
       "<style scoped>\n",
       "    .dataframe tbody tr th:only-of-type {\n",
       "        vertical-align: middle;\n",
       "    }\n",
       "\n",
       "    .dataframe tbody tr th {\n",
       "        vertical-align: top;\n",
       "    }\n",
       "\n",
       "    .dataframe thead th {\n",
       "        text-align: right;\n",
       "    }\n",
       "</style>\n",
       "<table border=\"1\" class=\"dataframe\">\n",
       "  <thead>\n",
       "    <tr style=\"text-align: right;\">\n",
       "      <th></th>\n",
       "      <th>a_rounded</th>\n",
       "      <th>a_exp</th>\n",
       "      <th>a</th>\n",
       "      <th>0</th>\n",
       "      <th>1</th>\n",
       "      <th>2</th>\n",
       "      <th>3</th>\n",
       "      <th>4</th>\n",
       "      <th>5</th>\n",
       "      <th>6</th>\n",
       "      <th>7</th>\n",
       "      <th>8</th>\n",
       "      <th>9</th>\n",
       "    </tr>\n",
       "  </thead>\n",
       "  <tbody>\n",
       "    <tr>\n",
       "      <th>0</th>\n",
       "      <td>0.0</td>\n",
       "      <td>-inf</td>\n",
       "      <td>0.000000e+00</td>\n",
       "      <td>10.000000</td>\n",
       "      <td>9.000000</td>\n",
       "      <td>8.000000</td>\n",
       "      <td>7.000000</td>\n",
       "      <td>6.000000</td>\n",
       "      <td>5.000000</td>\n",
       "      <td>4.000000</td>\n",
       "      <td>3.000000</td>\n",
       "      <td>2.000000</td>\n",
       "      <td>1.000000</td>\n",
       "    </tr>\n",
       "    <tr>\n",
       "      <th>1</th>\n",
       "      <td>0.0</td>\n",
       "      <td>-10.0</td>\n",
       "      <td>1.000000e-10</td>\n",
       "      <td>9.999978</td>\n",
       "      <td>9.000085</td>\n",
       "      <td>7.999872</td>\n",
       "      <td>7.000091</td>\n",
       "      <td>5.999977</td>\n",
       "      <td>4.999994</td>\n",
       "      <td>4.000005</td>\n",
       "      <td>2.999999</td>\n",
       "      <td>2.000000</td>\n",
       "      <td>1.000000</td>\n",
       "    </tr>\n",
       "    <tr>\n",
       "      <th>2</th>\n",
       "      <td>0.0</td>\n",
       "      <td>-9.5</td>\n",
       "      <td>3.162278e-10</td>\n",
       "      <td>9.999543</td>\n",
       "      <td>9.001775</td>\n",
       "      <td>7.997212</td>\n",
       "      <td>7.002241</td>\n",
       "      <td>5.999034</td>\n",
       "      <td>5.000215</td>\n",
       "      <td>3.999978</td>\n",
       "      <td>3.000001</td>\n",
       "      <td>2.000000</td>\n",
       "      <td>1.000000</td>\n",
       "    </tr>\n",
       "    <tr>\n",
       "      <th>3</th>\n",
       "      <td>0.0</td>\n",
       "      <td>-9.0</td>\n",
       "      <td>1.000000e-09</td>\n",
       "      <td>10.000133</td>\n",
       "      <td>8.999057</td>\n",
       "      <td>8.002647</td>\n",
       "      <td>6.996090</td>\n",
       "      <td>6.003294</td>\n",
       "      <td>4.998409</td>\n",
       "      <td>4.000421</td>\n",
       "      <td>2.999949</td>\n",
       "      <td>2.000001</td>\n",
       "      <td>1.000000</td>\n",
       "    </tr>\n",
       "    <tr>\n",
       "      <th>4</th>\n",
       "      <td>0.0</td>\n",
       "      <td>-8.5</td>\n",
       "      <td>3.162278e-09</td>\n",
       "      <td>9.999668</td>\n",
       "      <td>8.998509</td>\n",
       "      <td>8.009105</td>\n",
       "      <td>6.982907</td>\n",
       "      <td>6.015814</td>\n",
       "      <td>4.992019</td>\n",
       "      <td>4.002285</td>\n",
       "      <td>2.999673</td>\n",
       "      <td>2.000019</td>\n",
       "      <td>1.000000</td>\n",
       "    </tr>\n",
       "    <tr>\n",
       "      <th>5</th>\n",
       "      <td>0.0</td>\n",
       "      <td>-8.0</td>\n",
       "      <td>1.000000e-08</td>\n",
       "      <td>9.999922</td>\n",
       "      <td>8.997350</td>\n",
       "      <td>8.012586</td>\n",
       "      <td>6.975779</td>\n",
       "      <td>6.023765</td>\n",
       "      <td>4.987245</td>\n",
       "      <td>4.003894</td>\n",
       "      <td>2.999428</td>\n",
       "      <td>2.000031</td>\n",
       "      <td>1.000000</td>\n",
       "    </tr>\n",
       "    <tr>\n",
       "      <th>6</th>\n",
       "      <td>0.0</td>\n",
       "      <td>-7.5</td>\n",
       "      <td>3.162278e-08</td>\n",
       "      <td>10.011049</td>\n",
       "      <td>8.959323</td>\n",
       "      <td>8.048939</td>\n",
       "      <td>6.984994</td>\n",
       "      <td>5.984157</td>\n",
       "      <td>5.016451</td>\n",
       "      <td>3.994263</td>\n",
       "      <td>3.000882</td>\n",
       "      <td>1.999944</td>\n",
       "      <td>1.000002</td>\n",
       "    </tr>\n",
       "    <tr>\n",
       "      <th>7</th>\n",
       "      <td>0.0</td>\n",
       "      <td>-7.0</td>\n",
       "      <td>1.000000e-07</td>\n",
       "      <td>10.043215</td>\n",
       "      <td>8.771877</td>\n",
       "      <td>8.296883</td>\n",
       "      <td>6.815106</td>\n",
       "      <td>6.083914</td>\n",
       "      <td>4.989333</td>\n",
       "      <td>3.999374</td>\n",
       "      <td>3.000319</td>\n",
       "      <td>1.999976</td>\n",
       "      <td>1.000001</td>\n",
       "    </tr>\n",
       "    <tr>\n",
       "      <th>8</th>\n",
       "      <td>0.0</td>\n",
       "      <td>-6.5</td>\n",
       "      <td>3.162278e-07</td>\n",
       "      <td>10.195563</td>\n",
       "      <td>6.926947</td>\n",
       "      <td>3.914230</td>\n",
       "      <td>3.011562</td>\n",
       "      <td>1.999779</td>\n",
       "      <td>0.999990</td>\n",
       "      <td>NaN</td>\n",
       "      <td>NaN</td>\n",
       "      <td>NaN</td>\n",
       "      <td>NaN</td>\n",
       "    </tr>\n",
       "    <tr>\n",
       "      <th>9</th>\n",
       "      <td>0.0</td>\n",
       "      <td>-6.0</td>\n",
       "      <td>1.000000e-06</td>\n",
       "      <td>3.840738</td>\n",
       "      <td>3.007485</td>\n",
       "      <td>2.001027</td>\n",
       "      <td>0.999980</td>\n",
       "      <td>NaN</td>\n",
       "      <td>NaN</td>\n",
       "      <td>NaN</td>\n",
       "      <td>NaN</td>\n",
       "      <td>NaN</td>\n",
       "      <td>NaN</td>\n",
       "    </tr>\n",
       "  </tbody>\n",
       "</table>\n",
       "</div>"
      ],
      "text/plain": [
       "   a_rounded  a_exp             a          0         1         2         3  \\\n",
       "0        0.0   -inf  0.000000e+00  10.000000  9.000000  8.000000  7.000000   \n",
       "1        0.0  -10.0  1.000000e-10   9.999978  9.000085  7.999872  7.000091   \n",
       "2        0.0   -9.5  3.162278e-10   9.999543  9.001775  7.997212  7.002241   \n",
       "3        0.0   -9.0  1.000000e-09  10.000133  8.999057  8.002647  6.996090   \n",
       "4        0.0   -8.5  3.162278e-09   9.999668  8.998509  8.009105  6.982907   \n",
       "5        0.0   -8.0  1.000000e-08   9.999922  8.997350  8.012586  6.975779   \n",
       "6        0.0   -7.5  3.162278e-08  10.011049  8.959323  8.048939  6.984994   \n",
       "7        0.0   -7.0  1.000000e-07  10.043215  8.771877  8.296883  6.815106   \n",
       "8        0.0   -6.5  3.162278e-07  10.195563  6.926947  3.914230  3.011562   \n",
       "9        0.0   -6.0  1.000000e-06   3.840738  3.007485  2.001027  0.999980   \n",
       "\n",
       "          4         5         6         7         8         9  \n",
       "0  6.000000  5.000000  4.000000  3.000000  2.000000  1.000000  \n",
       "1  5.999977  4.999994  4.000005  2.999999  2.000000  1.000000  \n",
       "2  5.999034  5.000215  3.999978  3.000001  2.000000  1.000000  \n",
       "3  6.003294  4.998409  4.000421  2.999949  2.000001  1.000000  \n",
       "4  6.015814  4.992019  4.002285  2.999673  2.000019  1.000000  \n",
       "5  6.023765  4.987245  4.003894  2.999428  2.000031  1.000000  \n",
       "6  5.984157  5.016451  3.994263  3.000882  1.999944  1.000002  \n",
       "7  6.083914  4.989333  3.999374  3.000319  1.999976  1.000001  \n",
       "8  1.999779  0.999990       NaN       NaN       NaN       NaN  \n",
       "9       NaN       NaN       NaN       NaN       NaN       NaN  "
      ]
     },
     "execution_count": 8,
     "metadata": {},
     "output_type": "execute_result"
    }
   ],
   "source": [
    "a_roots = []\n",
    "for a in a_vals:\n",
    "    trial_coeff = perturb_coeff(a, coeff_ck)\n",
    "    trial_roots = roots_perturb_coeff(trial_coeff)\n",
    "    trial_real_roots = real_roots(trial_roots)\n",
    "    a_roots.append(trial_real_roots)\n",
    "\n",
    "a_roots_df = pd.DataFrame(a_roots)\n",
    "a_roots_df.insert(0, 'a', a_vals)\n",
    "a_roots_df.insert(0, 'a_exp', [float('-inf')] + a_exp)\n",
    "a_roots_df.insert(0, 'a_rounded', a_roots_df['a'].round(2))\n",
    "print(a_roots_df.shape)\n",
    "a_roots_df.head(10)"
   ]
  },
  {
   "cell_type": "code",
   "execution_count": 9,
   "metadata": {},
   "outputs": [
    {
     "name": "stdout",
     "output_type": "stream",
     "text": [
      "(230, 5)\n"
     ]
    },
    {
     "data": {
      "text/html": [
       "<div>\n",
       "<style scoped>\n",
       "    .dataframe tbody tr th:only-of-type {\n",
       "        vertical-align: middle;\n",
       "    }\n",
       "\n",
       "    .dataframe tbody tr th {\n",
       "        vertical-align: top;\n",
       "    }\n",
       "\n",
       "    .dataframe thead th {\n",
       "        text-align: right;\n",
       "    }\n",
       "</style>\n",
       "<table border=\"1\" class=\"dataframe\">\n",
       "  <thead>\n",
       "    <tr style=\"text-align: right;\">\n",
       "      <th></th>\n",
       "      <th>a</th>\n",
       "      <th>a_exp</th>\n",
       "      <th>a_rounded</th>\n",
       "      <th>roots</th>\n",
       "      <th>values</th>\n",
       "    </tr>\n",
       "  </thead>\n",
       "  <tbody>\n",
       "    <tr>\n",
       "      <th>0</th>\n",
       "      <td>0.0</td>\n",
       "      <td>-inf</td>\n",
       "      <td>0.0</td>\n",
       "      <td>0</td>\n",
       "      <td>10.0</td>\n",
       "    </tr>\n",
       "    <tr>\n",
       "      <th>23</th>\n",
       "      <td>0.0</td>\n",
       "      <td>-inf</td>\n",
       "      <td>0.0</td>\n",
       "      <td>1</td>\n",
       "      <td>9.0</td>\n",
       "    </tr>\n",
       "    <tr>\n",
       "      <th>115</th>\n",
       "      <td>0.0</td>\n",
       "      <td>-inf</td>\n",
       "      <td>0.0</td>\n",
       "      <td>5</td>\n",
       "      <td>5.0</td>\n",
       "    </tr>\n",
       "    <tr>\n",
       "      <th>46</th>\n",
       "      <td>0.0</td>\n",
       "      <td>-inf</td>\n",
       "      <td>0.0</td>\n",
       "      <td>2</td>\n",
       "      <td>8.0</td>\n",
       "    </tr>\n",
       "    <tr>\n",
       "      <th>92</th>\n",
       "      <td>0.0</td>\n",
       "      <td>-inf</td>\n",
       "      <td>0.0</td>\n",
       "      <td>4</td>\n",
       "      <td>6.0</td>\n",
       "    </tr>\n",
       "    <tr>\n",
       "      <th>69</th>\n",
       "      <td>0.0</td>\n",
       "      <td>-inf</td>\n",
       "      <td>0.0</td>\n",
       "      <td>3</td>\n",
       "      <td>7.0</td>\n",
       "    </tr>\n",
       "    <tr>\n",
       "      <th>184</th>\n",
       "      <td>0.0</td>\n",
       "      <td>-inf</td>\n",
       "      <td>0.0</td>\n",
       "      <td>8</td>\n",
       "      <td>2.0</td>\n",
       "    </tr>\n",
       "    <tr>\n",
       "      <th>161</th>\n",
       "      <td>0.0</td>\n",
       "      <td>-inf</td>\n",
       "      <td>0.0</td>\n",
       "      <td>7</td>\n",
       "      <td>3.0</td>\n",
       "    </tr>\n",
       "    <tr>\n",
       "      <th>138</th>\n",
       "      <td>0.0</td>\n",
       "      <td>-inf</td>\n",
       "      <td>0.0</td>\n",
       "      <td>6</td>\n",
       "      <td>4.0</td>\n",
       "    </tr>\n",
       "    <tr>\n",
       "      <th>207</th>\n",
       "      <td>0.0</td>\n",
       "      <td>-inf</td>\n",
       "      <td>0.0</td>\n",
       "      <td>9</td>\n",
       "      <td>1.0</td>\n",
       "    </tr>\n",
       "  </tbody>\n",
       "</table>\n",
       "</div>"
      ],
      "text/plain": [
       "       a  a_exp  a_rounded roots  values\n",
       "0    0.0   -inf        0.0     0    10.0\n",
       "23   0.0   -inf        0.0     1     9.0\n",
       "115  0.0   -inf        0.0     5     5.0\n",
       "46   0.0   -inf        0.0     2     8.0\n",
       "92   0.0   -inf        0.0     4     6.0\n",
       "69   0.0   -inf        0.0     3     7.0\n",
       "184  0.0   -inf        0.0     8     2.0\n",
       "161  0.0   -inf        0.0     7     3.0\n",
       "138  0.0   -inf        0.0     6     4.0\n",
       "207  0.0   -inf        0.0     9     1.0"
      ]
     },
     "execution_count": 9,
     "metadata": {},
     "output_type": "execute_result"
    }
   ],
   "source": [
    "a_roots_df_melt = pd.melt(a_roots_df, id_vars=['a', 'a_exp', 'a_rounded'], var_name='roots', value_name='values')\n",
    "a_roots_df_melt = a_roots_df_melt.sort_values(by=['a'])\n",
    "print(a_roots_df_melt.shape)\n",
    "a_roots_df_melt.head(10)"
   ]
  },
  {
   "cell_type": "markdown",
   "metadata": {},
   "source": [
    "$a$ versus root values"
   ]
  },
  {
   "cell_type": "code",
   "execution_count": 10,
   "metadata": {},
   "outputs": [
    {
     "data": {
      "image/png": "[encoded data removed]",
      "text/plain": [
       "<Figure size 750x500 with 1 Axes>"
      ]
     },
     "metadata": {
      "needs_background": "light"
     },
     "output_type": "display_data"
    }
   ],
   "source": [
    "sns.stripplot(x='a_exp', y='values', data=a_roots_df_melt, size=3, color='white', linewidth=0.5, edgecolor='black')\n",
    "\n",
    "#boxplot = sns.boxplot(x='a_rounded', y='values', data=a_roots_df_melt, whis=np.inf, palette='Set3')\n",
    "boxplot = sns.boxplot(x='a_exp', y='values', data=a_roots_df_melt, whis=np.inf, palette='Set3')\n",
    "boxplot.set_xticklabels(boxplot.get_xticklabels(), rotation=60, horizontalalignment='center')\n",
    "boxplot.set(xlabel='$a = 10^x$, where $x$ denotes a label')\n",
    "boxplot.set(ylabel='root values')\n",
    "\n",
    "plt.grid(linestyle='-', linewidth=0.25)\n",
    "plt.show()"
   ]
  },
  {
   "cell_type": "code",
   "execution_count": 11,
   "metadata": {},
   "outputs": [],
   "source": [
    "#a_roots_df_melt.head(100)"
   ]
  },
  {
   "cell_type": "code",
   "execution_count": null,
   "metadata": {},
   "outputs": [],
   "source": []
  }
 ],
 "metadata": {
  "kernelspec": {
   "display_name": "Python 3",
   "language": "python",
   "name": "python3"
  },
  "language_info": {
   "codemirror_mode": {
    "name": "ipython",
    "version": 3
   },
   "file_extension": ".py",
   "mimetype": "text/x-python",
   "name": "python",
   "nbconvert_exporter": "python",
   "pygments_lexer": "ipython3",
   "version": "3.7.3"
  }
 },
 "nbformat": 4,
 "nbformat_minor": 2
}
