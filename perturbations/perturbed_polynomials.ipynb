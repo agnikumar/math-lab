{
 "cells": [
  {
   "cell_type": "markdown",
   "metadata": {},
   "source": [
    "# Perturbed polynomials"
   ]
  },
  {
   "cell_type": "code",
   "execution_count": 1,
   "metadata": {},
   "outputs": [],
   "source": [
    "import warnings\n",
    "warnings.filterwarnings('ignore')"
   ]
  },
  {
   "cell_type": "code",
   "execution_count": 2,
   "metadata": {},
   "outputs": [],
   "source": [
    "import numpy as np\n",
    "import pandas as pd\n",
    "import math"
   ]
  },
  {
   "cell_type": "code",
   "execution_count": 3,
   "metadata": {},
   "outputs": [],
   "source": [
    "import matplotlib\n",
    "import matplotlib.pyplot as plt\n",
    "import matplotlib.pylab as pl\n",
    "import seaborn as sns\n",
    "matplotlib.rcParams['figure.dpi'] = 125"
   ]
  },
  {
   "cell_type": "markdown",
   "metadata": {},
   "source": [
    "### Visualizations of root values"
   ]
  },
  {
   "cell_type": "markdown",
   "metadata": {},
   "source": [
    "Analyzing perturbed coefficients and roots of\n",
    "$$p(x) = (x-1)(x-2)(x-3)(x-4)(x-5)(x-6)(x-7)(x-8)(x-9)(x-10)$$\n",
    "Expanding, we have\n",
    "$$p(x) = x^{10} - 55 x^9 + 1320 x^8 - 18150 x^7 + 157773 x^6 - 902055 x^5 + 3416930 x^4 - 8409500 x^3 + 12753576 x^2 - 10628640 x + 3628800$$\n",
    "The roots are:"
   ]
  },
  {
   "cell_type": "code",
   "execution_count": 4,
   "metadata": {},
   "outputs": [
    {
     "name": "stdout",
     "output_type": "stream",
     "text": [
      "[10.  9.  8.  7.  6.  5.  4.  3.  2.  1.]\n"
     ]
    }
   ],
   "source": [
    "coeff = [1, -55, 1320, -18150, 157773, -902055, 3416930, -8409500, 12753576, -10628640, 3628800]\n",
    "roots = np.roots(coeff)\n",
    "print(roots)"
   ]
  },
  {
   "cell_type": "code",
   "execution_count": 5,
   "metadata": {},
   "outputs": [
    {
     "name": "stdout",
     "output_type": "stream",
     "text": [
      "[0, 1e-10, 3.1622776601683795e-10, 1e-09, 3.1622776601683795e-09, 1e-08, 3.162277660168379e-08, 1e-07, 3.162277660168379e-07, 1e-06, 3.162277660168379e-06, 1e-05, 3.1622776601683795e-05, 0.0001, 0.00031622776601683794, 0.001, 0.0031622776601683794, 0.01, 0.03162277660168379, 0.1, 0.31622776601683794, 1.0, 3.1622776601683795]\n"
     ]
    }
   ],
   "source": [
    "#a_exp = list(range(-10, 1, 0.5)) # consecutive numbers\n",
    "a_exp = list(np.arange(-10, 1, 0.5)) # consecutive numbers\n",
    "a_vals = [0] + list(map(lambda x:pow(10, x), a_exp))\n",
    "print(a_vals)"
   ]
  },
  {
   "cell_type": "markdown",
   "metadata": {},
   "source": [
    "Perturbing coefficients"
   ]
  },
  {
   "cell_type": "code",
   "execution_count": 6,
   "metadata": {},
   "outputs": [
    {
     "name": "stdout",
     "output_type": "stream",
     "text": [
      "[-55, 1320, -18150, 157773, -902055, 3416930, -8409500, 12753576, -10628640, 3628800]\n"
     ]
    }
   ],
   "source": [
    "coeff_ck = coeff[1:]\n",
    "print(coeff_ck)"
   ]
  },
  {
   "cell_type": "code",
   "execution_count": 7,
   "metadata": {},
   "outputs": [],
   "source": [
    "def perturb_coeff(a, coeff):\n",
    "    coeff_perturbed = []\n",
    "    for c_k in coeff:\n",
    "        e_k = np.random.normal(0, 1) # mu = 0, sigma = 1\n",
    "        coeff_perturbed.append(c_k*(1 + a*e_k))\n",
    "    return coeff_perturbed\n",
    "\n",
    "def dist(coeff_ck, new_coeff_ck):\n",
    "    return [i - j for i, j in zip(new_coeff_ck, coeff_ck)]\n",
    "\n",
    "def roots_perturb_coeff(perturb_coeff):\n",
    "    perturb_coeff_full = [1] + perturb_coeff\n",
    "    return np.roots(perturb_coeff_full)\n",
    "\n",
    "def real_roots(roots):\n",
    "    return list(roots.real[abs(roots.imag)<1e-5])"
   ]
  },
  {
   "cell_type": "code",
   "execution_count": 8,
   "metadata": {},
   "outputs": [
    {
     "name": "stdout",
     "output_type": "stream",
     "text": [
      "perturbed coefficients: [126.83305391386244, 3171.9235506614878, 174462.4452188491, -714491.2596309216, 10245489.212854883, -48419980.29991763, 7731672.938885197, 50341466.19665461, -121560619.41051126, 38847813.02313973] \n",
      "\n",
      "all roots of perturbed polynomial: [-112.98666875 +0.j           -9.37450491+39.381121j\n",
      "   -9.37450491-39.381121j      0.16205828 +7.63388095j\n",
      "    0.16205828 -7.63388095j    4.25220012 +0.j\n",
      "   -1.46344537 +0.j            0.70812147 +1.02314825j\n",
      "    0.70812147 -1.02314825j    0.37351041 +0.j        ] \n",
      "\n",
      "real roots of perturbed polynomial: [-112.98666875412806, 4.252200115795205, -1.4634453667699194, 0.3735104081742266]\n"
     ]
    }
   ],
   "source": [
    "# testing\n",
    "\n",
    "example_a = 10\n",
    "example_perturb_coeff = perturb_coeff(example_a, coeff_ck)\n",
    "example_roots = roots_perturb_coeff(example_perturb_coeff)\n",
    "example_real_roots = real_roots(example_roots)\n",
    "print('perturbed coefficients:', example_perturb_coeff, '\\n')\n",
    "print('all roots of perturbed polynomial:', example_roots, '\\n')\n",
    "print('real roots of perturbed polynomial:', example_real_roots)"
   ]
  },
  {
   "cell_type": "markdown",
   "metadata": {},
   "source": [
    "### Plots"
   ]
  },
  {
   "cell_type": "code",
   "execution_count": 9,
   "metadata": {},
   "outputs": [
    {
     "name": "stdout",
     "output_type": "stream",
     "text": [
      "(23, 13)\n"
     ]
    },
    {
     "data": {
      "text/html": [
       "<div>\n",
       "<style scoped>\n",
       "    .dataframe tbody tr th:only-of-type {\n",
       "        vertical-align: middle;\n",
       "    }\n",
       "\n",
       "    .dataframe tbody tr th {\n",
       "        vertical-align: top;\n",
       "    }\n",
       "\n",
       "    .dataframe thead th {\n",
       "        text-align: right;\n",
       "    }\n",
       "</style>\n",
       "<table border=\"1\" class=\"dataframe\">\n",
       "  <thead>\n",
       "    <tr style=\"text-align: right;\">\n",
       "      <th></th>\n",
       "      <th>a_rounded</th>\n",
       "      <th>a_exp</th>\n",
       "      <th>a</th>\n",
       "      <th>0</th>\n",
       "      <th>1</th>\n",
       "      <th>2</th>\n",
       "      <th>3</th>\n",
       "      <th>4</th>\n",
       "      <th>5</th>\n",
       "      <th>6</th>\n",
       "      <th>7</th>\n",
       "      <th>8</th>\n",
       "      <th>9</th>\n",
       "    </tr>\n",
       "  </thead>\n",
       "  <tbody>\n",
       "    <tr>\n",
       "      <th>0</th>\n",
       "      <td>0.0</td>\n",
       "      <td>-inf</td>\n",
       "      <td>0.000000e+00</td>\n",
       "      <td>10.000000</td>\n",
       "      <td>9.000000</td>\n",
       "      <td>8.000000</td>\n",
       "      <td>7.000000</td>\n",
       "      <td>6.000000</td>\n",
       "      <td>5.000000</td>\n",
       "      <td>4.000000</td>\n",
       "      <td>3.000000</td>\n",
       "      <td>2.000000</td>\n",
       "      <td>1.000000</td>\n",
       "    </tr>\n",
       "    <tr>\n",
       "      <th>1</th>\n",
       "      <td>0.0</td>\n",
       "      <td>-10.0</td>\n",
       "      <td>1.000000e-10</td>\n",
       "      <td>9.999966</td>\n",
       "      <td>9.000114</td>\n",
       "      <td>7.999855</td>\n",
       "      <td>7.000088</td>\n",
       "      <td>5.999971</td>\n",
       "      <td>5.000009</td>\n",
       "      <td>3.999996</td>\n",
       "      <td>3.000001</td>\n",
       "      <td>2.000000</td>\n",
       "      <td>1.000000</td>\n",
       "    </tr>\n",
       "    <tr>\n",
       "      <th>2</th>\n",
       "      <td>0.0</td>\n",
       "      <td>-9.5</td>\n",
       "      <td>3.162278e-10</td>\n",
       "      <td>9.999862</td>\n",
       "      <td>9.000614</td>\n",
       "      <td>7.998867</td>\n",
       "      <td>7.001106</td>\n",
       "      <td>5.999398</td>\n",
       "      <td>5.000172</td>\n",
       "      <td>3.999983</td>\n",
       "      <td>2.999998</td>\n",
       "      <td>2.000001</td>\n",
       "      <td>1.000000</td>\n",
       "    </tr>\n",
       "    <tr>\n",
       "      <th>3</th>\n",
       "      <td>0.0</td>\n",
       "      <td>-9.0</td>\n",
       "      <td>1.000000e-09</td>\n",
       "      <td>9.999819</td>\n",
       "      <td>9.000737</td>\n",
       "      <td>7.998851</td>\n",
       "      <td>7.000891</td>\n",
       "      <td>5.999577</td>\n",
       "      <td>5.000191</td>\n",
       "      <td>3.999913</td>\n",
       "      <td>3.000023</td>\n",
       "      <td>1.999998</td>\n",
       "      <td>1.000000</td>\n",
       "    </tr>\n",
       "    <tr>\n",
       "      <th>4</th>\n",
       "      <td>0.0</td>\n",
       "      <td>-8.5</td>\n",
       "      <td>3.162278e-09</td>\n",
       "      <td>10.004399</td>\n",
       "      <td>8.979472</td>\n",
       "      <td>8.038085</td>\n",
       "      <td>6.959737</td>\n",
       "      <td>6.025877</td>\n",
       "      <td>4.990636</td>\n",
       "      <td>4.001973</td>\n",
       "      <td>2.999818</td>\n",
       "      <td>2.000002</td>\n",
       "      <td>1.000000</td>\n",
       "    </tr>\n",
       "    <tr>\n",
       "      <th>5</th>\n",
       "      <td>0.0</td>\n",
       "      <td>-8.0</td>\n",
       "      <td>1.000000e-08</td>\n",
       "      <td>10.007968</td>\n",
       "      <td>8.965260</td>\n",
       "      <td>8.057548</td>\n",
       "      <td>6.947048</td>\n",
       "      <td>6.029509</td>\n",
       "      <td>4.991332</td>\n",
       "      <td>4.001447</td>\n",
       "      <td>2.999883</td>\n",
       "      <td>2.000006</td>\n",
       "      <td>1.000000</td>\n",
       "    </tr>\n",
       "    <tr>\n",
       "      <th>6</th>\n",
       "      <td>0.0</td>\n",
       "      <td>-7.5</td>\n",
       "      <td>3.162278e-08</td>\n",
       "      <td>9.995993</td>\n",
       "      <td>9.002716</td>\n",
       "      <td>8.027354</td>\n",
       "      <td>6.930595</td>\n",
       "      <td>6.066248</td>\n",
       "      <td>4.970727</td>\n",
       "      <td>4.006980</td>\n",
       "      <td>2.999375</td>\n",
       "      <td>2.000012</td>\n",
       "      <td>1.000000</td>\n",
       "    </tr>\n",
       "    <tr>\n",
       "      <th>7</th>\n",
       "      <td>0.0</td>\n",
       "      <td>-7.0</td>\n",
       "      <td>1.000000e-07</td>\n",
       "      <td>9.957006</td>\n",
       "      <td>9.121953</td>\n",
       "      <td>7.876439</td>\n",
       "      <td>6.993249</td>\n",
       "      <td>6.109130</td>\n",
       "      <td>4.913058</td>\n",
       "      <td>4.033988</td>\n",
       "      <td>2.994884</td>\n",
       "      <td>2.000286</td>\n",
       "      <td>0.999999</td>\n",
       "    </tr>\n",
       "    <tr>\n",
       "      <th>8</th>\n",
       "      <td>0.0</td>\n",
       "      <td>-6.5</td>\n",
       "      <td>3.162278e-07</td>\n",
       "      <td>10.190712</td>\n",
       "      <td>4.750032</td>\n",
       "      <td>4.020127</td>\n",
       "      <td>3.008161</td>\n",
       "      <td>1.999092</td>\n",
       "      <td>1.000008</td>\n",
       "      <td>NaN</td>\n",
       "      <td>NaN</td>\n",
       "      <td>NaN</td>\n",
       "      <td>NaN</td>\n",
       "    </tr>\n",
       "    <tr>\n",
       "      <th>9</th>\n",
       "      <td>0.0</td>\n",
       "      <td>-6.0</td>\n",
       "      <td>1.000000e-06</td>\n",
       "      <td>10.029132</td>\n",
       "      <td>6.517737</td>\n",
       "      <td>3.809366</td>\n",
       "      <td>3.050889</td>\n",
       "      <td>1.996649</td>\n",
       "      <td>1.000065</td>\n",
       "      <td>NaN</td>\n",
       "      <td>NaN</td>\n",
       "      <td>NaN</td>\n",
       "      <td>NaN</td>\n",
       "    </tr>\n",
       "  </tbody>\n",
       "</table>\n",
       "</div>"
      ],
      "text/plain": [
       "   a_rounded  a_exp             a          0         1         2         3  \\\n",
       "0        0.0   -inf  0.000000e+00  10.000000  9.000000  8.000000  7.000000   \n",
       "1        0.0  -10.0  1.000000e-10   9.999966  9.000114  7.999855  7.000088   \n",
       "2        0.0   -9.5  3.162278e-10   9.999862  9.000614  7.998867  7.001106   \n",
       "3        0.0   -9.0  1.000000e-09   9.999819  9.000737  7.998851  7.000891   \n",
       "4        0.0   -8.5  3.162278e-09  10.004399  8.979472  8.038085  6.959737   \n",
       "5        0.0   -8.0  1.000000e-08  10.007968  8.965260  8.057548  6.947048   \n",
       "6        0.0   -7.5  3.162278e-08   9.995993  9.002716  8.027354  6.930595   \n",
       "7        0.0   -7.0  1.000000e-07   9.957006  9.121953  7.876439  6.993249   \n",
       "8        0.0   -6.5  3.162278e-07  10.190712  4.750032  4.020127  3.008161   \n",
       "9        0.0   -6.0  1.000000e-06  10.029132  6.517737  3.809366  3.050889   \n",
       "\n",
       "          4         5         6         7         8         9  \n",
       "0  6.000000  5.000000  4.000000  3.000000  2.000000  1.000000  \n",
       "1  5.999971  5.000009  3.999996  3.000001  2.000000  1.000000  \n",
       "2  5.999398  5.000172  3.999983  2.999998  2.000001  1.000000  \n",
       "3  5.999577  5.000191  3.999913  3.000023  1.999998  1.000000  \n",
       "4  6.025877  4.990636  4.001973  2.999818  2.000002  1.000000  \n",
       "5  6.029509  4.991332  4.001447  2.999883  2.000006  1.000000  \n",
       "6  6.066248  4.970727  4.006980  2.999375  2.000012  1.000000  \n",
       "7  6.109130  4.913058  4.033988  2.994884  2.000286  0.999999  \n",
       "8  1.999092  1.000008       NaN       NaN       NaN       NaN  \n",
       "9  1.996649  1.000065       NaN       NaN       NaN       NaN  "
      ]
     },
     "execution_count": 9,
     "metadata": {},
     "output_type": "execute_result"
    }
   ],
   "source": [
    "a_roots = []\n",
    "for a in a_vals:\n",
    "    trial_coeff = perturb_coeff(a, coeff_ck)\n",
    "    trial_roots = roots_perturb_coeff(trial_coeff)\n",
    "    trial_real_roots = real_roots(trial_roots)\n",
    "    a_roots.append(trial_real_roots)\n",
    "\n",
    "a_roots_df = pd.DataFrame(a_roots)\n",
    "a_roots_df.insert(0, 'a', a_vals)\n",
    "a_roots_df.insert(0, 'a_exp', [float('-inf')] + a_exp)\n",
    "a_roots_df.insert(0, 'a_rounded', a_roots_df['a'].round(2))\n",
    "print(a_roots_df.shape)\n",
    "a_roots_df.head(10)"
   ]
  },
  {
   "cell_type": "code",
   "execution_count": 10,
   "metadata": {},
   "outputs": [
    {
     "name": "stdout",
     "output_type": "stream",
     "text": [
      "(230, 5)\n"
     ]
    },
    {
     "data": {
      "text/html": [
       "<div>\n",
       "<style scoped>\n",
       "    .dataframe tbody tr th:only-of-type {\n",
       "        vertical-align: middle;\n",
       "    }\n",
       "\n",
       "    .dataframe tbody tr th {\n",
       "        vertical-align: top;\n",
       "    }\n",
       "\n",
       "    .dataframe thead th {\n",
       "        text-align: right;\n",
       "    }\n",
       "</style>\n",
       "<table border=\"1\" class=\"dataframe\">\n",
       "  <thead>\n",
       "    <tr style=\"text-align: right;\">\n",
       "      <th></th>\n",
       "      <th>a</th>\n",
       "      <th>a_exp</th>\n",
       "      <th>a_rounded</th>\n",
       "      <th>roots</th>\n",
       "      <th>values</th>\n",
       "    </tr>\n",
       "  </thead>\n",
       "  <tbody>\n",
       "    <tr>\n",
       "      <th>0</th>\n",
       "      <td>0.0</td>\n",
       "      <td>-inf</td>\n",
       "      <td>0.0</td>\n",
       "      <td>0</td>\n",
       "      <td>10.0</td>\n",
       "    </tr>\n",
       "    <tr>\n",
       "      <th>23</th>\n",
       "      <td>0.0</td>\n",
       "      <td>-inf</td>\n",
       "      <td>0.0</td>\n",
       "      <td>1</td>\n",
       "      <td>9.0</td>\n",
       "    </tr>\n",
       "    <tr>\n",
       "      <th>115</th>\n",
       "      <td>0.0</td>\n",
       "      <td>-inf</td>\n",
       "      <td>0.0</td>\n",
       "      <td>5</td>\n",
       "      <td>5.0</td>\n",
       "    </tr>\n",
       "    <tr>\n",
       "      <th>46</th>\n",
       "      <td>0.0</td>\n",
       "      <td>-inf</td>\n",
       "      <td>0.0</td>\n",
       "      <td>2</td>\n",
       "      <td>8.0</td>\n",
       "    </tr>\n",
       "    <tr>\n",
       "      <th>92</th>\n",
       "      <td>0.0</td>\n",
       "      <td>-inf</td>\n",
       "      <td>0.0</td>\n",
       "      <td>4</td>\n",
       "      <td>6.0</td>\n",
       "    </tr>\n",
       "  </tbody>\n",
       "</table>\n",
       "</div>"
      ],
      "text/plain": [
       "       a  a_exp  a_rounded roots  values\n",
       "0    0.0   -inf        0.0     0    10.0\n",
       "23   0.0   -inf        0.0     1     9.0\n",
       "115  0.0   -inf        0.0     5     5.0\n",
       "46   0.0   -inf        0.0     2     8.0\n",
       "92   0.0   -inf        0.0     4     6.0"
      ]
     },
     "execution_count": 10,
     "metadata": {},
     "output_type": "execute_result"
    }
   ],
   "source": [
    "a_roots_df_melt = pd.melt(a_roots_df, id_vars=['a', 'a_exp', 'a_rounded'], var_name='roots', value_name='values')\n",
    "a_roots_df_melt = a_roots_df_melt.sort_values(by=['a'])\n",
    "print(a_roots_df_melt.shape)\n",
    "a_roots_df_melt.head()"
   ]
  },
  {
   "cell_type": "markdown",
   "metadata": {},
   "source": [
    "$a$ versus real root values"
   ]
  },
  {
   "cell_type": "code",
   "execution_count": 11,
   "metadata": {},
   "outputs": [
    {
     "data": {
      "image/png": "[encoded data removed]",
      "text/plain": [
       "<Figure size 750x500 with 1 Axes>"
      ]
     },
     "metadata": {
      "needs_background": "light"
     },
     "output_type": "display_data"
    }
   ],
   "source": [
    "sns.stripplot(x='a_exp', y='values', data=a_roots_df_melt, size=3, color='white', linewidth=0.5, edgecolor='black')\n",
    "\n",
    "#boxplot = sns.boxplot(x='a_rounded', y='values', data=a_roots_df_melt, whis=np.inf, palette='Set3')\n",
    "boxplot = sns.boxplot(x='a_exp', y='values', data=a_roots_df_melt, whis=np.inf, palette='rainbow')\n",
    "boxplot_xticklabels = boxplot.get_xticklabels()\n",
    "display_xlabels = [{float(str(label.get_text()))} for label in boxplot_xticklabels]\n",
    "boxplot.set_xticklabels(['$10^{}$'.format(label) for label in display_xlabels], rotation=60, horizontalalignment='center')\n",
    "\n",
    "#boxplot.set_xticklabels(boxplot.get_xticklabels(), rotation=60, horizontalalignment='center')\n",
    "boxplot.set(xlabel='$a$')\n",
    "boxplot.set(ylabel='real root values')\n",
    "boxplot.set(title='real polynomial roots')\n",
    "\n",
    "plt.grid(linestyle='-', linewidth=0.25)\n",
    "plt.show()"
   ]
  },
  {
   "cell_type": "markdown",
   "metadata": {},
   "source": [
    "$a$ versus all root values"
   ]
  },
  {
   "cell_type": "code",
   "execution_count": 12,
   "metadata": {},
   "outputs": [
    {
     "name": "stdout",
     "output_type": "stream",
     "text": [
      "(23, 13)\n"
     ]
    }
   ],
   "source": [
    "a_roots = []\n",
    "for a in a_vals:\n",
    "    trial_coeff = perturb_coeff(a, coeff_ck)\n",
    "    trial_roots = roots_perturb_coeff(trial_coeff) # all roots\n",
    "    a_roots.append(trial_roots)\n",
    "\n",
    "a_roots_df = pd.DataFrame(a_roots)\n",
    "a_roots_df.insert(0, 'a', a_vals)\n",
    "a_roots_df.insert(0, 'a_exp', [float('-inf')] + a_exp)\n",
    "#a_roots_df.insert(0, 'a_exp', [-math.inf] + a_exp)\n",
    "a_roots_df.insert(0, 'a_rounded', a_roots_df['a'].round(2))\n",
    "print(a_roots_df.shape)"
   ]
  },
  {
   "cell_type": "code",
   "execution_count": 13,
   "metadata": {
    "scrolled": true
   },
   "outputs": [
    {
     "name": "stdout",
     "output_type": "stream",
     "text": [
      "(230, 7)\n"
     ]
    },
    {
     "data": {
      "text/html": [
       "<div>\n",
       "<style scoped>\n",
       "    .dataframe tbody tr th:only-of-type {\n",
       "        vertical-align: middle;\n",
       "    }\n",
       "\n",
       "    .dataframe tbody tr th {\n",
       "        vertical-align: top;\n",
       "    }\n",
       "\n",
       "    .dataframe thead th {\n",
       "        text-align: right;\n",
       "    }\n",
       "</style>\n",
       "<table border=\"1\" class=\"dataframe\">\n",
       "  <thead>\n",
       "    <tr style=\"text-align: right;\">\n",
       "      <th></th>\n",
       "      <th>a</th>\n",
       "      <th>a_exp</th>\n",
       "      <th>a_rounded</th>\n",
       "      <th>roots</th>\n",
       "      <th>values</th>\n",
       "      <th>real</th>\n",
       "      <th>imaginary</th>\n",
       "    </tr>\n",
       "  </thead>\n",
       "  <tbody>\n",
       "    <tr>\n",
       "      <th>0</th>\n",
       "      <td>0.0</td>\n",
       "      <td>-inf</td>\n",
       "      <td>0.0</td>\n",
       "      <td>0</td>\n",
       "      <td>(10.000000000340687+0j)</td>\n",
       "      <td>10.0</td>\n",
       "      <td>0.0</td>\n",
       "    </tr>\n",
       "    <tr>\n",
       "      <th>23</th>\n",
       "      <td>0.0</td>\n",
       "      <td>-inf</td>\n",
       "      <td>0.0</td>\n",
       "      <td>1</td>\n",
       "      <td>(8.99999999849376+0j)</td>\n",
       "      <td>9.0</td>\n",
       "      <td>0.0</td>\n",
       "    </tr>\n",
       "    <tr>\n",
       "      <th>115</th>\n",
       "      <td>0.0</td>\n",
       "      <td>-inf</td>\n",
       "      <td>0.0</td>\n",
       "      <td>5</td>\n",
       "      <td>(4.999999999494381+0j)</td>\n",
       "      <td>5.0</td>\n",
       "      <td>0.0</td>\n",
       "    </tr>\n",
       "    <tr>\n",
       "      <th>46</th>\n",
       "      <td>0.0</td>\n",
       "      <td>-inf</td>\n",
       "      <td>0.0</td>\n",
       "      <td>2</td>\n",
       "      <td>(8.000000002751277+0j)</td>\n",
       "      <td>8.0</td>\n",
       "      <td>0.0</td>\n",
       "    </tr>\n",
       "    <tr>\n",
       "      <th>92</th>\n",
       "      <td>0.0</td>\n",
       "      <td>-inf</td>\n",
       "      <td>0.0</td>\n",
       "      <td>4</td>\n",
       "      <td>(6.000000001506791+0j)</td>\n",
       "      <td>6.0</td>\n",
       "      <td>0.0</td>\n",
       "    </tr>\n",
       "    <tr>\n",
       "      <th>69</th>\n",
       "      <td>0.0</td>\n",
       "      <td>-inf</td>\n",
       "      <td>0.0</td>\n",
       "      <td>3</td>\n",
       "      <td>(6.999999997320477+0j)</td>\n",
       "      <td>7.0</td>\n",
       "      <td>0.0</td>\n",
       "    </tr>\n",
       "    <tr>\n",
       "      <th>184</th>\n",
       "      <td>0.0</td>\n",
       "      <td>-inf</td>\n",
       "      <td>0.0</td>\n",
       "      <td>8</td>\n",
       "      <td>(2.00000000000165+0j)</td>\n",
       "      <td>2.0</td>\n",
       "      <td>0.0</td>\n",
       "    </tr>\n",
       "    <tr>\n",
       "      <th>161</th>\n",
       "      <td>0.0</td>\n",
       "      <td>-inf</td>\n",
       "      <td>0.0</td>\n",
       "      <td>7</td>\n",
       "      <td>(2.999999999983562+0j)</td>\n",
       "      <td>3.0</td>\n",
       "      <td>0.0</td>\n",
       "    </tr>\n",
       "    <tr>\n",
       "      <th>138</th>\n",
       "      <td>0.0</td>\n",
       "      <td>-inf</td>\n",
       "      <td>0.0</td>\n",
       "      <td>6</td>\n",
       "      <td>(4.000000000107472+0j)</td>\n",
       "      <td>4.0</td>\n",
       "      <td>0.0</td>\n",
       "    </tr>\n",
       "    <tr>\n",
       "      <th>207</th>\n",
       "      <td>0.0</td>\n",
       "      <td>-inf</td>\n",
       "      <td>0.0</td>\n",
       "      <td>9</td>\n",
       "      <td>(0.99999999999995+0j)</td>\n",
       "      <td>1.0</td>\n",
       "      <td>0.0</td>\n",
       "    </tr>\n",
       "  </tbody>\n",
       "</table>\n",
       "</div>"
      ],
      "text/plain": [
       "       a  a_exp  a_rounded roots                   values  real  imaginary\n",
       "0    0.0   -inf        0.0     0  (10.000000000340687+0j)  10.0        0.0\n",
       "23   0.0   -inf        0.0     1    (8.99999999849376+0j)   9.0        0.0\n",
       "115  0.0   -inf        0.0     5   (4.999999999494381+0j)   5.0        0.0\n",
       "46   0.0   -inf        0.0     2   (8.000000002751277+0j)   8.0        0.0\n",
       "92   0.0   -inf        0.0     4   (6.000000001506791+0j)   6.0        0.0\n",
       "69   0.0   -inf        0.0     3   (6.999999997320477+0j)   7.0        0.0\n",
       "184  0.0   -inf        0.0     8    (2.00000000000165+0j)   2.0        0.0\n",
       "161  0.0   -inf        0.0     7   (2.999999999983562+0j)   3.0        0.0\n",
       "138  0.0   -inf        0.0     6   (4.000000000107472+0j)   4.0        0.0\n",
       "207  0.0   -inf        0.0     9    (0.99999999999995+0j)   1.0        0.0"
      ]
     },
     "execution_count": 13,
     "metadata": {},
     "output_type": "execute_result"
    }
   ],
   "source": [
    "a_roots_df_melt = pd.melt(a_roots_df, id_vars=['a', 'a_exp', 'a_rounded'], var_name='roots', value_name='values')\n",
    "a_roots_df_melt = a_roots_df_melt.sort_values(by=['a'])\n",
    "a_roots_df_melt['real'] = a_roots_df_melt['values'].real\n",
    "a_roots_df_melt['imaginary'] = a_roots_df_melt['values'].imag\n",
    "\n",
    "print(a_roots_df_melt.shape)\n",
    "a_roots_df_melt.head(10)"
   ]
  },
  {
   "cell_type": "code",
   "execution_count": 14,
   "metadata": {},
   "outputs": [
    {
     "data": {
      "image/png": "[encoded data removed]",
      "text/plain": [
       "<Figure size 750x500 with 1 Axes>"
      ]
     },
     "metadata": {
      "needs_background": "light"
     },
     "output_type": "display_data"
    }
   ],
   "source": [
    "#a_roots_df_melt_nan = a_roots_df_melt.replace(-math.inf, -10.5) # np.nan, for legend to work\n",
    "a_roots_df_melt_nan = a_roots_df_melt.replace(float('-inf'), np.nan)\n",
    "\n",
    "cmap = 'rainbow'\n",
    "#cmap = sns.color_palette('pastel', n_colors=22)\n",
    "roots_plot = sns.scatterplot(x='real', y='imaginary', data=a_roots_df_melt_nan, \n",
    "                             hue='a_exp', size='a_exp', legend='full', palette=cmap)\n",
    "\n",
    "handles, labels = roots_plot.get_legend_handles_labels()\n",
    "display_labels = [{float(label)} for label in labels[1::4]]\n",
    "roots_plot.legend(handles[1::4], ['$10^{}$'.format(label) for label in display_labels], title='value of $a$')\n",
    "roots_plot.set_title('polynomial roots')\n",
    "\n",
    "plt.grid(linestyle='-', linewidth=0.25)\n",
    "plt.show()"
   ]
  },
  {
   "cell_type": "markdown",
   "metadata": {},
   "source": [
    "### Statistical analyses "
   ]
  },
  {
   "cell_type": "code",
   "execution_count": 15,
   "metadata": {
    "scrolled": true
   },
   "outputs": [
    {
     "name": "stdout",
     "output_type": "stream",
     "text": [
      "(23, 5)\n"
     ]
    },
    {
     "data": {
      "text/html": [
       "<div>\n",
       "<style scoped>\n",
       "    .dataframe tbody tr th:only-of-type {\n",
       "        vertical-align: middle;\n",
       "    }\n",
       "\n",
       "    .dataframe tbody tr th {\n",
       "        vertical-align: top;\n",
       "    }\n",
       "\n",
       "    .dataframe thead th {\n",
       "        text-align: right;\n",
       "    }\n",
       "</style>\n",
       "<table border=\"1\" class=\"dataframe\">\n",
       "  <thead>\n",
       "    <tr style=\"text-align: right;\">\n",
       "      <th></th>\n",
       "      <th>a_exp</th>\n",
       "      <th>real_avg</th>\n",
       "      <th>real_std</th>\n",
       "      <th>imag_avg</th>\n",
       "      <th>imag_std</th>\n",
       "    </tr>\n",
       "  </thead>\n",
       "  <tbody>\n",
       "    <tr>\n",
       "      <th>0</th>\n",
       "      <td>-inf</td>\n",
       "      <td>5.500000</td>\n",
       "      <td>3.027650</td>\n",
       "      <td>0.0</td>\n",
       "      <td>0.000000</td>\n",
       "    </tr>\n",
       "    <tr>\n",
       "      <th>1</th>\n",
       "      <td>-10.0</td>\n",
       "      <td>5.500000</td>\n",
       "      <td>3.027650</td>\n",
       "      <td>0.0</td>\n",
       "      <td>0.000000</td>\n",
       "    </tr>\n",
       "    <tr>\n",
       "      <th>2</th>\n",
       "      <td>-9.5</td>\n",
       "      <td>5.500000</td>\n",
       "      <td>3.027650</td>\n",
       "      <td>0.0</td>\n",
       "      <td>0.000000</td>\n",
       "    </tr>\n",
       "    <tr>\n",
       "      <th>3</th>\n",
       "      <td>-9.0</td>\n",
       "      <td>5.500000</td>\n",
       "      <td>3.027650</td>\n",
       "      <td>0.0</td>\n",
       "      <td>0.000000</td>\n",
       "    </tr>\n",
       "    <tr>\n",
       "      <th>4</th>\n",
       "      <td>-8.5</td>\n",
       "      <td>5.500000</td>\n",
       "      <td>3.027650</td>\n",
       "      <td>0.0</td>\n",
       "      <td>0.000000</td>\n",
       "    </tr>\n",
       "    <tr>\n",
       "      <th>5</th>\n",
       "      <td>-8.0</td>\n",
       "      <td>5.500000</td>\n",
       "      <td>3.027650</td>\n",
       "      <td>0.0</td>\n",
       "      <td>0.000000</td>\n",
       "    </tr>\n",
       "    <tr>\n",
       "      <th>6</th>\n",
       "      <td>-7.5</td>\n",
       "      <td>5.500000</td>\n",
       "      <td>3.027651</td>\n",
       "      <td>0.0</td>\n",
       "      <td>0.000000</td>\n",
       "    </tr>\n",
       "    <tr>\n",
       "      <th>7</th>\n",
       "      <td>-7.0</td>\n",
       "      <td>5.499999</td>\n",
       "      <td>3.027632</td>\n",
       "      <td>0.0</td>\n",
       "      <td>0.000000</td>\n",
       "    </tr>\n",
       "    <tr>\n",
       "      <th>8</th>\n",
       "      <td>-6.5</td>\n",
       "      <td>5.500003</td>\n",
       "      <td>3.047853</td>\n",
       "      <td>0.0</td>\n",
       "      <td>0.349973</td>\n",
       "    </tr>\n",
       "    <tr>\n",
       "      <th>9</th>\n",
       "      <td>-6.0</td>\n",
       "      <td>5.499995</td>\n",
       "      <td>3.046253</td>\n",
       "      <td>0.0</td>\n",
       "      <td>0.336926</td>\n",
       "    </tr>\n",
       "  </tbody>\n",
       "</table>\n",
       "</div>"
      ],
      "text/plain": [
       "   a_exp  real_avg  real_std  imag_avg  imag_std\n",
       "0   -inf  5.500000  3.027650       0.0  0.000000\n",
       "1  -10.0  5.500000  3.027650       0.0  0.000000\n",
       "2   -9.5  5.500000  3.027650       0.0  0.000000\n",
       "3   -9.0  5.500000  3.027650       0.0  0.000000\n",
       "4   -8.5  5.500000  3.027650       0.0  0.000000\n",
       "5   -8.0  5.500000  3.027650       0.0  0.000000\n",
       "6   -7.5  5.500000  3.027651       0.0  0.000000\n",
       "7   -7.0  5.499999  3.027632       0.0  0.000000\n",
       "8   -6.5  5.500003  3.047853       0.0  0.349973\n",
       "9   -6.0  5.499995  3.046253       0.0  0.336926"
      ]
     },
     "execution_count": 15,
     "metadata": {},
     "output_type": "execute_result"
    }
   ],
   "source": [
    "real_avg = a_roots_df_melt.groupby('a_exp')['real'].mean().reset_index().rename(columns={'real':'real_avg'})\n",
    "real_std = a_roots_df_melt.groupby('a_exp')['real'].std().reset_index().rename(columns={'real':'real_std'})\n",
    "imag_avg = a_roots_df_melt.groupby('a_exp')['imaginary'].mean().reset_index().rename(columns={'imaginary':'imag_avg'})\n",
    "imag_std = a_roots_df_melt.groupby('a_exp')['imaginary'].std().reset_index().rename(columns={'imaginary':'imag_std'})\n",
    "\n",
    "a_roots_df_melt_stats = pd.concat([real_avg, real_std, imag_avg, imag_std], axis=1)\n",
    "a_roots_df_melt_stats = a_roots_df_melt_stats.loc[:,~a_roots_df_melt_stats.columns.duplicated()]\n",
    "\n",
    "print(a_roots_df_melt_stats.shape)\n",
    "a_roots_df_melt_stats.head(10)"
   ]
  },
  {
   "cell_type": "code",
   "execution_count": 16,
   "metadata": {},
   "outputs": [
    {
     "data": {
      "image/png": "[encoded data removed]",
      "text/plain": [
       "<Figure size 750x500 with 1 Axes>"
      ]
     },
     "metadata": {
      "needs_background": "light"
     },
     "output_type": "display_data"
    }
   ],
   "source": [
    "x, y = list(a_roots_df_melt_stats['real_avg']), list(a_roots_df_melt_stats['imag_avg'])\n",
    "x_err, y_err = list(a_roots_df_melt_stats['real_std']), list(a_roots_df_melt_stats['imag_std'])\n",
    "labels = list(a_roots_df_melt_stats['a_exp'])\n",
    "float_labels = [{float(label)} for label in labels]\n",
    "display_labels = ['$10^{}$'.format(label) for label in float_labels]\n",
    "\n",
    "#plt.errorbar(x, y, yerr=y_err, xerr=x_err, elinewidth=0.5, capsize=2.5, ms=4, \n",
    "#             markerfacecolor='black', markeredgecolor='black', fmt='o', ecolor='blue')\n",
    "\n",
    "n = len(x)\n",
    "colors = pl.cm.jet(np.linspace(0,1,n))\n",
    "for i in range(n):\n",
    "    plt.errorbar(x[i], y[i], yerr=y_err[i], xerr=x_err[i], elinewidth=0.5, capsize=2.5, ms=8,\n",
    "                 markerfacecolor=colors[i], markeredgecolor='black', markeredgewidth=0.5, \n",
    "                 fmt='o', ecolor=colors[i], alpha=0.75,\n",
    "                 label='_nolegend_' if (i+1)%2 != 0 else display_labels[i]) #label=display_labels[i]\n",
    "    \n",
    "plt.xlabel('real')\n",
    "plt.ylabel('imaginary')\n",
    "plt.title('polynomial root $\\mu$ and $\\sigma$ values') # mean and standard deviations of roots by 'a' value\n",
    "plt.grid(linestyle='-', linewidth=0.25)\n",
    "plt.legend(title='value of $a$')\n",
    "plt.show()"
   ]
  },
  {
   "cell_type": "code",
   "execution_count": 17,
   "metadata": {},
   "outputs": [
    {
     "name": "stdout",
     "output_type": "stream",
     "text": [
      "(92, 3)\n"
     ]
    },
    {
     "data": {
      "text/html": [
       "<div>\n",
       "<style scoped>\n",
       "    .dataframe tbody tr th:only-of-type {\n",
       "        vertical-align: middle;\n",
       "    }\n",
       "\n",
       "    .dataframe tbody tr th {\n",
       "        vertical-align: top;\n",
       "    }\n",
       "\n",
       "    .dataframe thead th {\n",
       "        text-align: right;\n",
       "    }\n",
       "</style>\n",
       "<table border=\"1\" class=\"dataframe\">\n",
       "  <thead>\n",
       "    <tr style=\"text-align: right;\">\n",
       "      <th></th>\n",
       "      <th>a_exp</th>\n",
       "      <th>statistic</th>\n",
       "      <th>val</th>\n",
       "    </tr>\n",
       "  </thead>\n",
       "  <tbody>\n",
       "    <tr>\n",
       "      <th>0</th>\n",
       "      <td>-inf</td>\n",
       "      <td>real_avg</td>\n",
       "      <td>5.5</td>\n",
       "    </tr>\n",
       "    <tr>\n",
       "      <th>1</th>\n",
       "      <td>-10.0</td>\n",
       "      <td>real_avg</td>\n",
       "      <td>5.5</td>\n",
       "    </tr>\n",
       "    <tr>\n",
       "      <th>2</th>\n",
       "      <td>-9.5</td>\n",
       "      <td>real_avg</td>\n",
       "      <td>5.5</td>\n",
       "    </tr>\n",
       "    <tr>\n",
       "      <th>3</th>\n",
       "      <td>-9.0</td>\n",
       "      <td>real_avg</td>\n",
       "      <td>5.5</td>\n",
       "    </tr>\n",
       "    <tr>\n",
       "      <th>4</th>\n",
       "      <td>-8.5</td>\n",
       "      <td>real_avg</td>\n",
       "      <td>5.5</td>\n",
       "    </tr>\n",
       "  </tbody>\n",
       "</table>\n",
       "</div>"
      ],
      "text/plain": [
       "   a_exp statistic  val\n",
       "0   -inf  real_avg  5.5\n",
       "1  -10.0  real_avg  5.5\n",
       "2   -9.5  real_avg  5.5\n",
       "3   -9.0  real_avg  5.5\n",
       "4   -8.5  real_avg  5.5"
      ]
     },
     "execution_count": 17,
     "metadata": {},
     "output_type": "execute_result"
    }
   ],
   "source": [
    "stats_melt = pd.melt(a_roots_df_melt_stats, id_vars='a_exp', var_name='statistic', value_name='val')\n",
    "print(stats_melt.shape)\n",
    "stats_melt.head()"
   ]
  },
  {
   "cell_type": "code",
   "execution_count": 18,
   "metadata": {},
   "outputs": [
    {
     "data": {
      "image/png": "[encoded data removed]",
      "text/plain": [
       "<Figure size 1203.67x800 with 1 Axes>"
      ]
     },
     "metadata": {
      "needs_background": "light"
     },
     "output_type": "display_data"
    }
   ],
   "source": [
    "# for legend\n",
    "stats_melt = stats_melt.replace('real_avg', '$\\mu_{real}$')\n",
    "stats_melt = stats_melt.replace('real_std', '$\\sigma_{real}$')\n",
    "stats_melt = stats_melt.replace('imag_avg', '$\\mu_{imaginary}$')\n",
    "stats_melt = stats_melt.replace('imag_std', '$\\sigma_{imaginary}$')\n",
    "\n",
    "# 'boxplot/display_xticklabels' because 'FacetGrid' object has no attribute 'get_xticklabels' \n",
    "barplot = sns.catplot(x='a_exp', y='val', hue='statistic', data=stats_melt, \n",
    "                      kind='bar', palette='rainbow', height=6.4, aspect=4/3)\n",
    "barplot.set_xticklabels(['$10^{}$'.format(label) for label in display_xlabels], rotation=60, horizontalalignment='center')\n",
    "barplot.set(xlabel='$a$')\n",
    "barplot.set(ylabel='statistic values')\n",
    "barplot.set(title='polynomial root $\\mu$ and $\\sigma$ values')\n",
    "\n",
    "sns.despine(top=False, right=False)\n",
    "plt.grid(linestyle='-', linewidth=0.25)\n",
    "plt.show()"
   ]
  }
 ],
 "metadata": {
  "kernelspec": {
   "display_name": "Python 3",
   "language": "python",
   "name": "python3"
  },
  "language_info": {
   "codemirror_mode": {
    "name": "ipython",
    "version": 3
   },
   "file_extension": ".py",
   "mimetype": "text/x-python",
   "name": "python",
   "nbconvert_exporter": "python",
   "pygments_lexer": "ipython3",
   "version": "3.7.3"
  }
 },
 "nbformat": 4,
 "nbformat_minor": 2
}
