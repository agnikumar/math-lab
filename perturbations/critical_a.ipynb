{
 "cells": [
  {
   "cell_type": "markdown",
   "metadata": {},
   "source": [
    "# Critical $a$ probability"
   ]
  },
  {
   "cell_type": "code",
   "execution_count": 1,
   "metadata": {},
   "outputs": [],
   "source": [
    "import warnings\n",
    "warnings.filterwarnings('ignore')"
   ]
  },
  {
   "cell_type": "code",
   "execution_count": 2,
   "metadata": {},
   "outputs": [],
   "source": [
    "import numpy as np\n",
    "import pandas as pd\n",
    "import math"
   ]
  },
  {
   "cell_type": "code",
   "execution_count": 3,
   "metadata": {},
   "outputs": [],
   "source": [
    "import matplotlib\n",
    "import matplotlib.pyplot as plt\n",
    "import matplotlib.pylab as pl\n",
    "import seaborn as sns\n",
    "import matplotlib.ticker as ticker\n",
    "matplotlib.rcParams['figure.dpi'] = 125 # figure resolution"
   ]
  },
  {
   "cell_type": "markdown",
   "metadata": {},
   "source": [
    "Setting polynomial degree"
   ]
  },
  {
   "cell_type": "code",
   "execution_count": 4,
   "metadata": {},
   "outputs": [],
   "source": [
    "coeff_1 = [1, -1] # (x-1), degree 1\n",
    "coeff_2 = [1, -3, 2] # (x-1)(x-2), degree 2\n",
    "coeff_3 = [1, -6, 11, -6] # (x-1)(x-2)(x-3), degree 3\n",
    "coeff_4 = [1, -10, 35, -50, 24] # (x-1)(x-2)(x-3)(x-4), degree 4\n",
    "coeff_5 = [1, -15, 85, -225, 274, -120] # (x-1)(x-2)(x-3)(x-4)(x-5), degree 5\n",
    "coeff_6 = [1, -21, 175, -735, 1624, -1764, 720] # (x-1)(x-2)(x-3)(x-4)(x-5)(x-6), degree 6\n",
    "coeff_7 = [1, -28, 322, -1960, 6769, -13132, 13068, -5040] # (x-1)(x-2)(x-3)(x-4)(x-5)(x-6)(x-7), degree 7\n",
    "coeff_8 = [1, -36, 546, -4536, 22449, -67284, 118124, -109584, 40320] # (x-1)(x-2)(x-3)(x-4)(x-5)(x-6)(x-7)(x-8), degree 8\n",
    "coeff_9 = [1, -45, 870, -9450, 63273, -269325, 723680, -1172700, 1026576, -362880] # (x-1)(x-2)(x-3)(x-4)(x-5)(x-6)(x-7)(x-8)(x-9), degree 9\n",
    "coeff_10 = [1, -55, 1320, -18150, 157773, -902055, 3416930, -8409500, 12753576, -10628640, 3628800] # (x-1)(x-2)(x-3)(x-4)(x-5)(x-6)(x-7)(x-8)(x-9)(x-10), degree 10"
   ]
  },
  {
   "cell_type": "code",
   "execution_count": 5,
   "metadata": {},
   "outputs": [
    {
     "name": "stdout",
     "output_type": "stream",
     "text": [
      "[10.  9.  8.  7.  6.  5.  4.  3.  2.  1.]\n"
     ]
    }
   ],
   "source": [
    "coeff = coeff_10 # polynomial degree\n",
    "roots = np.roots(coeff)\n",
    "print(roots)"
   ]
  },
  {
   "cell_type": "code",
   "execution_count": 6,
   "metadata": {},
   "outputs": [],
   "source": [
    "a_exp_multiple = list(np.arange(-10, 1.25, 0.25)) # consecutive numbers\n",
    "a_vals_multiple = [0] + list(map(lambda x:pow(10, x), a_exp_multiple))\n",
    "#a_vals_multiple = list(map(lambda x:pow(10, x), a_exp_multiple))\n",
    "\n",
    "#print(a_exp_multiple)\n",
    "#print(a_vals_multiple)"
   ]
  },
  {
   "cell_type": "markdown",
   "metadata": {},
   "source": [
    "Perturbing coefficients"
   ]
  },
  {
   "cell_type": "code",
   "execution_count": 7,
   "metadata": {},
   "outputs": [
    {
     "name": "stdout",
     "output_type": "stream",
     "text": [
      "[-55, 1320, -18150, 157773, -902055, 3416930, -8409500, 12753576, -10628640, 3628800]\n"
     ]
    }
   ],
   "source": [
    "coeff_ck = coeff[1:]\n",
    "print(coeff_ck)"
   ]
  },
  {
   "cell_type": "code",
   "execution_count": 8,
   "metadata": {},
   "outputs": [],
   "source": [
    "def perturb_coeff(a, coeff):\n",
    "    coeff_perturbed = []\n",
    "    for c_k in coeff:\n",
    "        e_k = np.random.normal(0, 1) # mu = 0, sigma = 1\n",
    "        coeff_perturbed.append(c_k*(1 + a*e_k))\n",
    "    return coeff_perturbed\n",
    "\n",
    "def dist(coeff_ck, new_coeff_ck):\n",
    "    return [i - j for i, j in zip(new_coeff_ck, coeff_ck)]\n",
    "\n",
    "def roots_perturb_coeff(perturb_coeff):\n",
    "    perturb_coeff_full = [1] + perturb_coeff\n",
    "    return np.roots(perturb_coeff_full)\n",
    "\n",
    "def real_roots(roots):\n",
    "    return list(roots.real[abs(roots.imag)<1e-5])"
   ]
  },
  {
   "cell_type": "markdown",
   "metadata": {},
   "source": [
    "### Multiple runs for multiple $a$ values"
   ]
  },
  {
   "cell_type": "code",
   "execution_count": 9,
   "metadata": {},
   "outputs": [],
   "source": [
    "def get_probs(a_list, num_runs):\n",
    "    a_prob_dict = {}\n",
    "    for a in a_list:\n",
    "        a_exp = np.log10(a)\n",
    "        imag_presence_count = 0\n",
    "        for num in range(num_runs):\n",
    "            coeff = perturb_coeff(a, coeff_ck)\n",
    "            roots = roots_perturb_coeff(coeff) # all roots\n",
    "            real_roots_poly = real_roots(roots)\n",
    "            if len(real_roots_poly) < len(coeff): # indicates presence of at least one imaginary root\n",
    "                imag_presence_count += 1\n",
    "        a_prob = imag_presence_count/num_runs # probability\n",
    "        a_prob_dict[a] = [a, a_exp, a_prob]\n",
    "    a_prob_df = pd.DataFrame.from_dict(a_prob_dict, orient='index', \n",
    "                                       columns=['a', 'a_exp', 'probability']).reset_index(drop=True)\n",
    "    return a_prob_df"
   ]
  },
  {
   "cell_type": "code",
   "execution_count": 10,
   "metadata": {},
   "outputs": [
    {
     "data": {
      "text/html": [
       "<div>\n",
       "<style scoped>\n",
       "    .dataframe tbody tr th:only-of-type {\n",
       "        vertical-align: middle;\n",
       "    }\n",
       "\n",
       "    .dataframe tbody tr th {\n",
       "        vertical-align: top;\n",
       "    }\n",
       "\n",
       "    .dataframe thead th {\n",
       "        text-align: right;\n",
       "    }\n",
       "</style>\n",
       "<table border=\"1\" class=\"dataframe\">\n",
       "  <thead>\n",
       "    <tr style=\"text-align: right;\">\n",
       "      <th></th>\n",
       "      <th>a</th>\n",
       "      <th>a_exp</th>\n",
       "      <th>probability</th>\n",
       "    </tr>\n",
       "  </thead>\n",
       "  <tbody>\n",
       "    <tr>\n",
       "      <th>0</th>\n",
       "      <td>0.000000e+00</td>\n",
       "      <td>-inf</td>\n",
       "      <td>0.0</td>\n",
       "    </tr>\n",
       "    <tr>\n",
       "      <th>1</th>\n",
       "      <td>1.000000e-10</td>\n",
       "      <td>-10.00</td>\n",
       "      <td>0.0</td>\n",
       "    </tr>\n",
       "    <tr>\n",
       "      <th>2</th>\n",
       "      <td>1.778279e-10</td>\n",
       "      <td>-9.75</td>\n",
       "      <td>0.0</td>\n",
       "    </tr>\n",
       "    <tr>\n",
       "      <th>3</th>\n",
       "      <td>3.162278e-10</td>\n",
       "      <td>-9.50</td>\n",
       "      <td>0.0</td>\n",
       "    </tr>\n",
       "    <tr>\n",
       "      <th>4</th>\n",
       "      <td>5.623413e-10</td>\n",
       "      <td>-9.25</td>\n",
       "      <td>0.0</td>\n",
       "    </tr>\n",
       "  </tbody>\n",
       "</table>\n",
       "</div>"
      ],
      "text/plain": [
       "              a  a_exp  probability\n",
       "0  0.000000e+00   -inf          0.0\n",
       "1  1.000000e-10 -10.00          0.0\n",
       "2  1.778279e-10  -9.75          0.0\n",
       "3  3.162278e-10  -9.50          0.0\n",
       "4  5.623413e-10  -9.25          0.0"
      ]
     },
     "execution_count": 10,
     "metadata": {},
     "output_type": "execute_result"
    }
   ],
   "source": [
    "num_runs = 1000\n",
    "a_prob_df = get_probs(a_vals_multiple, num_runs)\n",
    "a_prob_df.head()"
   ]
  },
  {
   "cell_type": "code",
   "execution_count": 11,
   "metadata": {},
   "outputs": [
    {
     "data": {
      "image/png": "[encoded data removed]",
      "text/plain": [
       "<Figure size 750x500 with 1 Axes>"
      ]
     },
     "metadata": {
      "needs_background": "light"
     },
     "output_type": "display_data"
    }
   ],
   "source": [
    "# probability plot\n",
    "lineplot = sns.lineplot(x='a_exp', y='probability', data=a_prob_df, marker='o', ms=4, color='hotpink', linewidth=1)\n",
    "\n",
    "lineplot.xaxis.set_major_locator(ticker.MultipleLocator(1))\n",
    "lineplot.xaxis.set_major_formatter(ticker.ScalarFormatter())\n",
    "lineplot.set_xticklabels(['$10^{}$'.format({float(label)}) for label in lineplot.get_xticks()], rotation=30, horizontalalignment='center')\n",
    "lineplot.set(xlabel='$a$')\n",
    "lineplot.set(ylabel='probability')\n",
    "plt.title('$P$(imaginary root presence)', y=1.06)\n",
    "plt.suptitle('degree {} perturbed polynomials, {} runs for each $a$ value'.format(len(coeff_ck), num_runs), fontsize=10, y=0.93)\n",
    "\n",
    "plt.axhline(y=0.25, color='gold', linestyle='--', linewidth=1) # p_0 value (arbitrary)\n",
    "plt.grid(linestyle='-', linewidth=0.25)\n",
    "plt.show()"
   ]
  }
 ],
 "metadata": {
  "kernelspec": {
   "display_name": "Python 3",
   "language": "python",
   "name": "python3"
  },
  "language_info": {
   "codemirror_mode": {
    "name": "ipython",
    "version": 3
   },
   "file_extension": ".py",
   "mimetype": "text/x-python",
   "name": "python",
   "nbconvert_exporter": "python",
   "pygments_lexer": "ipython3",
   "version": "3.7.3"
  }
 },
 "nbformat": 4,
 "nbformat_minor": 2
}
