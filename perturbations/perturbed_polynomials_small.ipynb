{
 "cells": [
  {
   "cell_type": "markdown",
   "metadata": {},
   "source": [
    "# Perturbed polynomials (small)"
   ]
  },
  {
   "cell_type": "code",
   "execution_count": 1,
   "metadata": {},
   "outputs": [],
   "source": [
    "import warnings\n",
    "warnings.filterwarnings('ignore')"
   ]
  },
  {
   "cell_type": "code",
   "execution_count": 2,
   "metadata": {},
   "outputs": [],
   "source": [
    "import numpy as np\n",
    "import pandas as pd\n",
    "import math"
   ]
  },
  {
   "cell_type": "code",
   "execution_count": 3,
   "metadata": {},
   "outputs": [],
   "source": [
    "import matplotlib\n",
    "import matplotlib.pyplot as plt\n",
    "import matplotlib.pylab as pl\n",
    "import seaborn as sns\n",
    "matplotlib.rcParams['figure.dpi'] = 125"
   ]
  },
  {
   "cell_type": "markdown",
   "metadata": {},
   "source": [
    "### Visualizations of root values"
   ]
  },
  {
   "cell_type": "markdown",
   "metadata": {},
   "source": [
    "Analyzing perturbed coefficients and roots of\n",
    "$$p(x) = (x-1)(x-2)(x-3)$$\n",
    "Expanding, we have\n",
    "$$p(x) = x^3 - 6x^2 + 11x - 6$$\n",
    "The roots are:"
   ]
  },
  {
   "cell_type": "code",
   "execution_count": 4,
   "metadata": {},
   "outputs": [
    {
     "name": "stdout",
     "output_type": "stream",
     "text": [
      "[3. 2. 1.]\n"
     ]
    }
   ],
   "source": [
    "coeff = [1, -6, 11, -6]\n",
    "roots = np.roots(coeff)\n",
    "print(roots)"
   ]
  },
  {
   "cell_type": "code",
   "execution_count": 5,
   "metadata": {},
   "outputs": [
    {
     "name": "stdout",
     "output_type": "stream",
     "text": [
      "[0, 1e-10, 3.1622776601683795e-10, 1e-09, 3.1622776601683795e-09, 1e-08, 3.162277660168379e-08, 1e-07, 3.162277660168379e-07, 1e-06, 3.162277660168379e-06, 1e-05, 3.1622776601683795e-05, 0.0001, 0.00031622776601683794, 0.001, 0.0031622776601683794, 0.01, 0.03162277660168379, 0.1, 0.31622776601683794, 1.0, 3.1622776601683795]\n"
     ]
    }
   ],
   "source": [
    "#a_exp = list(range(-10, 1, 0.5)) # consecutive numbers\n",
    "a_exp = list(np.arange(-10, 1, 0.5)) # consecutive numbers\n",
    "a_vals = [0] + list(map(lambda x:pow(10, x), a_exp))\n",
    "print(a_vals)"
   ]
  },
  {
   "cell_type": "markdown",
   "metadata": {},
   "source": [
    "Perturbing coefficients"
   ]
  },
  {
   "cell_type": "code",
   "execution_count": 6,
   "metadata": {},
   "outputs": [
    {
     "name": "stdout",
     "output_type": "stream",
     "text": [
      "[-6, 11, -6]\n"
     ]
    }
   ],
   "source": [
    "coeff_ck = coeff[1:]\n",
    "print(coeff_ck)"
   ]
  },
  {
   "cell_type": "code",
   "execution_count": 7,
   "metadata": {},
   "outputs": [],
   "source": [
    "def perturb_coeff(a, coeff):\n",
    "    coeff_perturbed = []\n",
    "    for c_k in coeff:\n",
    "        e_k = np.random.normal(0, 1) # mu = 0, sigma = 1\n",
    "        coeff_perturbed.append(c_k*(1 + a*e_k))\n",
    "    return coeff_perturbed\n",
    "\n",
    "def dist(coeff_ck, new_coeff_ck):\n",
    "    return [i - j for i, j in zip(new_coeff_ck, coeff_ck)]\n",
    "\n",
    "def roots_perturb_coeff(perturb_coeff):\n",
    "    perturb_coeff_full = [1] + perturb_coeff\n",
    "    return np.roots(perturb_coeff_full)\n",
    "\n",
    "def real_roots(roots):\n",
    "    return list(roots.real[abs(roots.imag)<1e-5])"
   ]
  },
  {
   "cell_type": "code",
   "execution_count": 8,
   "metadata": {},
   "outputs": [
    {
     "name": "stdout",
     "output_type": "stream",
     "text": [
      "perturbed coefficients: [-56.27263253676975, -18.99143257700208, -25.034460047968548] \n",
      "\n",
      "all roots of perturbed polynomial: [56.61588625+0.j         -0.17162686+0.64243681j -0.17162686-0.64243681j] \n",
      "\n",
      "real roots of perturbed polynomial: [56.615886254077026]\n"
     ]
    }
   ],
   "source": [
    "# testing\n",
    "\n",
    "example_a = 10\n",
    "example_perturb_coeff = perturb_coeff(example_a, coeff_ck)\n",
    "example_roots = roots_perturb_coeff(example_perturb_coeff)\n",
    "example_real_roots = real_roots(example_roots)\n",
    "print('perturbed coefficients:', example_perturb_coeff, '\\n')\n",
    "print('all roots of perturbed polynomial:', example_roots, '\\n')\n",
    "print('real roots of perturbed polynomial:', example_real_roots)"
   ]
  },
  {
   "cell_type": "markdown",
   "metadata": {},
   "source": [
    "### Plots"
   ]
  },
  {
   "cell_type": "code",
   "execution_count": 9,
   "metadata": {},
   "outputs": [
    {
     "name": "stdout",
     "output_type": "stream",
     "text": [
      "(23, 6)\n"
     ]
    },
    {
     "data": {
      "text/html": [
       "<div>\n",
       "<style scoped>\n",
       "    .dataframe tbody tr th:only-of-type {\n",
       "        vertical-align: middle;\n",
       "    }\n",
       "\n",
       "    .dataframe tbody tr th {\n",
       "        vertical-align: top;\n",
       "    }\n",
       "\n",
       "    .dataframe thead th {\n",
       "        text-align: right;\n",
       "    }\n",
       "</style>\n",
       "<table border=\"1\" class=\"dataframe\">\n",
       "  <thead>\n",
       "    <tr style=\"text-align: right;\">\n",
       "      <th></th>\n",
       "      <th>a_rounded</th>\n",
       "      <th>a_exp</th>\n",
       "      <th>a</th>\n",
       "      <th>0</th>\n",
       "      <th>1</th>\n",
       "      <th>2</th>\n",
       "    </tr>\n",
       "  </thead>\n",
       "  <tbody>\n",
       "    <tr>\n",
       "      <th>0</th>\n",
       "      <td>0.0</td>\n",
       "      <td>-inf</td>\n",
       "      <td>0.000000e+00</td>\n",
       "      <td>3.000000</td>\n",
       "      <td>2.000000</td>\n",
       "      <td>1.000000</td>\n",
       "    </tr>\n",
       "    <tr>\n",
       "      <th>1</th>\n",
       "      <td>0.0</td>\n",
       "      <td>-10.0</td>\n",
       "      <td>1.000000e-10</td>\n",
       "      <td>3.000000</td>\n",
       "      <td>2.000000</td>\n",
       "      <td>1.000000</td>\n",
       "    </tr>\n",
       "    <tr>\n",
       "      <th>2</th>\n",
       "      <td>0.0</td>\n",
       "      <td>-9.5</td>\n",
       "      <td>3.162278e-10</td>\n",
       "      <td>3.000000</td>\n",
       "      <td>2.000000</td>\n",
       "      <td>1.000000</td>\n",
       "    </tr>\n",
       "    <tr>\n",
       "      <th>3</th>\n",
       "      <td>0.0</td>\n",
       "      <td>-9.0</td>\n",
       "      <td>1.000000e-09</td>\n",
       "      <td>3.000000</td>\n",
       "      <td>2.000000</td>\n",
       "      <td>1.000000</td>\n",
       "    </tr>\n",
       "    <tr>\n",
       "      <th>4</th>\n",
       "      <td>0.0</td>\n",
       "      <td>-8.5</td>\n",
       "      <td>3.162278e-09</td>\n",
       "      <td>3.000000</td>\n",
       "      <td>2.000000</td>\n",
       "      <td>1.000000</td>\n",
       "    </tr>\n",
       "    <tr>\n",
       "      <th>5</th>\n",
       "      <td>0.0</td>\n",
       "      <td>-8.0</td>\n",
       "      <td>1.000000e-08</td>\n",
       "      <td>2.999999</td>\n",
       "      <td>2.000000</td>\n",
       "      <td>1.000000</td>\n",
       "    </tr>\n",
       "    <tr>\n",
       "      <th>6</th>\n",
       "      <td>0.0</td>\n",
       "      <td>-7.5</td>\n",
       "      <td>3.162278e-08</td>\n",
       "      <td>2.999999</td>\n",
       "      <td>2.000001</td>\n",
       "      <td>1.000000</td>\n",
       "    </tr>\n",
       "    <tr>\n",
       "      <th>7</th>\n",
       "      <td>0.0</td>\n",
       "      <td>-7.0</td>\n",
       "      <td>1.000000e-07</td>\n",
       "      <td>3.000000</td>\n",
       "      <td>2.000000</td>\n",
       "      <td>1.000000</td>\n",
       "    </tr>\n",
       "    <tr>\n",
       "      <th>8</th>\n",
       "      <td>0.0</td>\n",
       "      <td>-6.5</td>\n",
       "      <td>3.162278e-07</td>\n",
       "      <td>2.999996</td>\n",
       "      <td>2.000001</td>\n",
       "      <td>1.000001</td>\n",
       "    </tr>\n",
       "    <tr>\n",
       "      <th>9</th>\n",
       "      <td>0.0</td>\n",
       "      <td>-6.0</td>\n",
       "      <td>1.000000e-06</td>\n",
       "      <td>2.999995</td>\n",
       "      <td>2.000014</td>\n",
       "      <td>0.999995</td>\n",
       "    </tr>\n",
       "  </tbody>\n",
       "</table>\n",
       "</div>"
      ],
      "text/plain": [
       "   a_rounded  a_exp             a         0         1         2\n",
       "0        0.0   -inf  0.000000e+00  3.000000  2.000000  1.000000\n",
       "1        0.0  -10.0  1.000000e-10  3.000000  2.000000  1.000000\n",
       "2        0.0   -9.5  3.162278e-10  3.000000  2.000000  1.000000\n",
       "3        0.0   -9.0  1.000000e-09  3.000000  2.000000  1.000000\n",
       "4        0.0   -8.5  3.162278e-09  3.000000  2.000000  1.000000\n",
       "5        0.0   -8.0  1.000000e-08  2.999999  2.000000  1.000000\n",
       "6        0.0   -7.5  3.162278e-08  2.999999  2.000001  1.000000\n",
       "7        0.0   -7.0  1.000000e-07  3.000000  2.000000  1.000000\n",
       "8        0.0   -6.5  3.162278e-07  2.999996  2.000001  1.000001\n",
       "9        0.0   -6.0  1.000000e-06  2.999995  2.000014  0.999995"
      ]
     },
     "execution_count": 9,
     "metadata": {},
     "output_type": "execute_result"
    }
   ],
   "source": [
    "a_roots = []\n",
    "for a in a_vals:\n",
    "    trial_coeff = perturb_coeff(a, coeff_ck)\n",
    "    trial_roots = roots_perturb_coeff(trial_coeff)\n",
    "    trial_real_roots = real_roots(trial_roots)\n",
    "    a_roots.append(trial_real_roots)\n",
    "\n",
    "a_roots_df = pd.DataFrame(a_roots)\n",
    "a_roots_df.insert(0, 'a', a_vals)\n",
    "a_roots_df.insert(0, 'a_exp', [float('-inf')] + a_exp)\n",
    "a_roots_df.insert(0, 'a_rounded', a_roots_df['a'].round(2))\n",
    "print(a_roots_df.shape)\n",
    "a_roots_df.head(10)"
   ]
  },
  {
   "cell_type": "code",
   "execution_count": 10,
   "metadata": {},
   "outputs": [
    {
     "name": "stdout",
     "output_type": "stream",
     "text": [
      "(69, 5)\n"
     ]
    },
    {
     "data": {
      "text/html": [
       "<div>\n",
       "<style scoped>\n",
       "    .dataframe tbody tr th:only-of-type {\n",
       "        vertical-align: middle;\n",
       "    }\n",
       "\n",
       "    .dataframe tbody tr th {\n",
       "        vertical-align: top;\n",
       "    }\n",
       "\n",
       "    .dataframe thead th {\n",
       "        text-align: right;\n",
       "    }\n",
       "</style>\n",
       "<table border=\"1\" class=\"dataframe\">\n",
       "  <thead>\n",
       "    <tr style=\"text-align: right;\">\n",
       "      <th></th>\n",
       "      <th>a</th>\n",
       "      <th>a_exp</th>\n",
       "      <th>a_rounded</th>\n",
       "      <th>roots</th>\n",
       "      <th>values</th>\n",
       "    </tr>\n",
       "  </thead>\n",
       "  <tbody>\n",
       "    <tr>\n",
       "      <th>0</th>\n",
       "      <td>0.000000e+00</td>\n",
       "      <td>-inf</td>\n",
       "      <td>0.0</td>\n",
       "      <td>0</td>\n",
       "      <td>3.0</td>\n",
       "    </tr>\n",
       "    <tr>\n",
       "      <th>46</th>\n",
       "      <td>0.000000e+00</td>\n",
       "      <td>-inf</td>\n",
       "      <td>0.0</td>\n",
       "      <td>2</td>\n",
       "      <td>1.0</td>\n",
       "    </tr>\n",
       "    <tr>\n",
       "      <th>23</th>\n",
       "      <td>0.000000e+00</td>\n",
       "      <td>-inf</td>\n",
       "      <td>0.0</td>\n",
       "      <td>1</td>\n",
       "      <td>2.0</td>\n",
       "    </tr>\n",
       "    <tr>\n",
       "      <th>1</th>\n",
       "      <td>1.000000e-10</td>\n",
       "      <td>-10.0</td>\n",
       "      <td>0.0</td>\n",
       "      <td>0</td>\n",
       "      <td>3.0</td>\n",
       "    </tr>\n",
       "    <tr>\n",
       "      <th>47</th>\n",
       "      <td>1.000000e-10</td>\n",
       "      <td>-10.0</td>\n",
       "      <td>0.0</td>\n",
       "      <td>2</td>\n",
       "      <td>1.0</td>\n",
       "    </tr>\n",
       "  </tbody>\n",
       "</table>\n",
       "</div>"
      ],
      "text/plain": [
       "               a  a_exp  a_rounded roots  values\n",
       "0   0.000000e+00   -inf        0.0     0     3.0\n",
       "46  0.000000e+00   -inf        0.0     2     1.0\n",
       "23  0.000000e+00   -inf        0.0     1     2.0\n",
       "1   1.000000e-10  -10.0        0.0     0     3.0\n",
       "47  1.000000e-10  -10.0        0.0     2     1.0"
      ]
     },
     "execution_count": 10,
     "metadata": {},
     "output_type": "execute_result"
    }
   ],
   "source": [
    "a_roots_df_melt = pd.melt(a_roots_df, id_vars=['a', 'a_exp', 'a_rounded'], var_name='roots', value_name='values')\n",
    "a_roots_df_melt = a_roots_df_melt.sort_values(by=['a'])\n",
    "print(a_roots_df_melt.shape)\n",
    "a_roots_df_melt.head()"
   ]
  },
  {
   "cell_type": "markdown",
   "metadata": {},
   "source": [
    "$a$ versus real root values"
   ]
  },
  {
   "cell_type": "code",
   "execution_count": 11,
   "metadata": {},
   "outputs": [
    {
     "data": {
      "image/png": "[encoded data removed]",
      "text/plain": [
       "<Figure size 750x500 with 1 Axes>"
      ]
     },
     "metadata": {
      "needs_background": "light"
     },
     "output_type": "display_data"
    }
   ],
   "source": [
    "sns.stripplot(x='a_exp', y='values', data=a_roots_df_melt, size=3, color='white', linewidth=0.5, edgecolor='black')\n",
    "\n",
    "#boxplot = sns.boxplot(x='a_rounded', y='values', data=a_roots_df_melt, whis=np.inf, palette='Set3')\n",
    "boxplot = sns.boxplot(x='a_exp', y='values', data=a_roots_df_melt, whis=np.inf, palette='rainbow')\n",
    "boxplot_xticklabels = boxplot.get_xticklabels()\n",
    "display_xlabels = [{float(str(label.get_text()))} for label in boxplot_xticklabels]\n",
    "boxplot.set_xticklabels(['$10^{}$'.format(label) for label in display_xlabels], rotation=60, horizontalalignment='center')\n",
    "\n",
    "#boxplot.set_xticklabels(boxplot.get_xticklabels(), rotation=60, horizontalalignment='center')\n",
    "boxplot.set(xlabel='$a$')\n",
    "boxplot.set(ylabel='real root values')\n",
    "boxplot.set(title='real polynomial roots')\n",
    "\n",
    "plt.grid(linestyle='-', linewidth=0.25)\n",
    "plt.show()"
   ]
  },
  {
   "cell_type": "markdown",
   "metadata": {},
   "source": [
    "$a$ versus all root values"
   ]
  },
  {
   "cell_type": "code",
   "execution_count": 12,
   "metadata": {},
   "outputs": [
    {
     "name": "stdout",
     "output_type": "stream",
     "text": [
      "(23, 6)\n"
     ]
    }
   ],
   "source": [
    "a_roots = []\n",
    "for a in a_vals:\n",
    "    trial_coeff = perturb_coeff(a, coeff_ck)\n",
    "    trial_roots = roots_perturb_coeff(trial_coeff) # all roots\n",
    "    a_roots.append(trial_roots)\n",
    "\n",
    "a_roots_df = pd.DataFrame(a_roots)\n",
    "a_roots_df.insert(0, 'a', a_vals)\n",
    "a_roots_df.insert(0, 'a_exp', [float('-inf')] + a_exp)\n",
    "#a_roots_df.insert(0, 'a_exp', [-math.inf] + a_exp)\n",
    "a_roots_df.insert(0, 'a_rounded', a_roots_df['a'].round(2))\n",
    "print(a_roots_df.shape)"
   ]
  },
  {
   "cell_type": "code",
   "execution_count": 13,
   "metadata": {
    "scrolled": true
   },
   "outputs": [
    {
     "name": "stdout",
     "output_type": "stream",
     "text": [
      "(69, 7)\n"
     ]
    },
    {
     "data": {
      "text/html": [
       "<div>\n",
       "<style scoped>\n",
       "    .dataframe tbody tr th:only-of-type {\n",
       "        vertical-align: middle;\n",
       "    }\n",
       "\n",
       "    .dataframe tbody tr th {\n",
       "        vertical-align: top;\n",
       "    }\n",
       "\n",
       "    .dataframe thead th {\n",
       "        text-align: right;\n",
       "    }\n",
       "</style>\n",
       "<table border=\"1\" class=\"dataframe\">\n",
       "  <thead>\n",
       "    <tr style=\"text-align: right;\">\n",
       "      <th></th>\n",
       "      <th>a</th>\n",
       "      <th>a_exp</th>\n",
       "      <th>a_rounded</th>\n",
       "      <th>roots</th>\n",
       "      <th>values</th>\n",
       "      <th>real</th>\n",
       "      <th>imaginary</th>\n",
       "    </tr>\n",
       "  </thead>\n",
       "  <tbody>\n",
       "    <tr>\n",
       "      <th>0</th>\n",
       "      <td>0.000000e+00</td>\n",
       "      <td>-inf</td>\n",
       "      <td>0.0</td>\n",
       "      <td>0</td>\n",
       "      <td>(3.0000000000000018+0j)</td>\n",
       "      <td>3.0</td>\n",
       "      <td>0.0</td>\n",
       "    </tr>\n",
       "    <tr>\n",
       "      <th>46</th>\n",
       "      <td>0.000000e+00</td>\n",
       "      <td>-inf</td>\n",
       "      <td>0.0</td>\n",
       "      <td>2</td>\n",
       "      <td>(1.0000000000000002+0j)</td>\n",
       "      <td>1.0</td>\n",
       "      <td>0.0</td>\n",
       "    </tr>\n",
       "    <tr>\n",
       "      <th>23</th>\n",
       "      <td>0.000000e+00</td>\n",
       "      <td>-inf</td>\n",
       "      <td>0.0</td>\n",
       "      <td>1</td>\n",
       "      <td>(1.999999999999998+0j)</td>\n",
       "      <td>2.0</td>\n",
       "      <td>0.0</td>\n",
       "    </tr>\n",
       "    <tr>\n",
       "      <th>1</th>\n",
       "      <td>1.000000e-10</td>\n",
       "      <td>-10.0</td>\n",
       "      <td>0.0</td>\n",
       "      <td>0</td>\n",
       "      <td>(2.9999999970117663+0j)</td>\n",
       "      <td>3.0</td>\n",
       "      <td>0.0</td>\n",
       "    </tr>\n",
       "    <tr>\n",
       "      <th>47</th>\n",
       "      <td>1.000000e-10</td>\n",
       "      <td>-10.0</td>\n",
       "      <td>0.0</td>\n",
       "      <td>2</td>\n",
       "      <td>(0.9999999995809072+0j)</td>\n",
       "      <td>1.0</td>\n",
       "      <td>0.0</td>\n",
       "    </tr>\n",
       "    <tr>\n",
       "      <th>24</th>\n",
       "      <td>1.000000e-10</td>\n",
       "      <td>-10.0</td>\n",
       "      <td>0.0</td>\n",
       "      <td>1</td>\n",
       "      <td>(2.0000000027474965+0j)</td>\n",
       "      <td>2.0</td>\n",
       "      <td>0.0</td>\n",
       "    </tr>\n",
       "    <tr>\n",
       "      <th>2</th>\n",
       "      <td>3.162278e-10</td>\n",
       "      <td>-9.5</td>\n",
       "      <td>0.0</td>\n",
       "      <td>0</td>\n",
       "      <td>(3.0000000151886965+0j)</td>\n",
       "      <td>3.0</td>\n",
       "      <td>0.0</td>\n",
       "    </tr>\n",
       "    <tr>\n",
       "      <th>48</th>\n",
       "      <td>3.162278e-10</td>\n",
       "      <td>-9.5</td>\n",
       "      <td>0.0</td>\n",
       "      <td>2</td>\n",
       "      <td>(1.0000000035338397+0j)</td>\n",
       "      <td>1.0</td>\n",
       "      <td>0.0</td>\n",
       "    </tr>\n",
       "    <tr>\n",
       "      <th>25</th>\n",
       "      <td>3.162278e-10</td>\n",
       "      <td>-9.5</td>\n",
       "      <td>0.0</td>\n",
       "      <td>1</td>\n",
       "      <td>(1.999999982917648+0j)</td>\n",
       "      <td>2.0</td>\n",
       "      <td>0.0</td>\n",
       "    </tr>\n",
       "    <tr>\n",
       "      <th>49</th>\n",
       "      <td>1.000000e-09</td>\n",
       "      <td>-9.0</td>\n",
       "      <td>0.0</td>\n",
       "      <td>2</td>\n",
       "      <td>(0.9999999946876214+0j)</td>\n",
       "      <td>1.0</td>\n",
       "      <td>0.0</td>\n",
       "    </tr>\n",
       "  </tbody>\n",
       "</table>\n",
       "</div>"
      ],
      "text/plain": [
       "               a  a_exp  a_rounded roots                   values  real  \\\n",
       "0   0.000000e+00   -inf        0.0     0  (3.0000000000000018+0j)   3.0   \n",
       "46  0.000000e+00   -inf        0.0     2  (1.0000000000000002+0j)   1.0   \n",
       "23  0.000000e+00   -inf        0.0     1   (1.999999999999998+0j)   2.0   \n",
       "1   1.000000e-10  -10.0        0.0     0  (2.9999999970117663+0j)   3.0   \n",
       "47  1.000000e-10  -10.0        0.0     2  (0.9999999995809072+0j)   1.0   \n",
       "24  1.000000e-10  -10.0        0.0     1  (2.0000000027474965+0j)   2.0   \n",
       "2   3.162278e-10   -9.5        0.0     0  (3.0000000151886965+0j)   3.0   \n",
       "48  3.162278e-10   -9.5        0.0     2  (1.0000000035338397+0j)   1.0   \n",
       "25  3.162278e-10   -9.5        0.0     1   (1.999999982917648+0j)   2.0   \n",
       "49  1.000000e-09   -9.0        0.0     2  (0.9999999946876214+0j)   1.0   \n",
       "\n",
       "    imaginary  \n",
       "0         0.0  \n",
       "46        0.0  \n",
       "23        0.0  \n",
       "1         0.0  \n",
       "47        0.0  \n",
       "24        0.0  \n",
       "2         0.0  \n",
       "48        0.0  \n",
       "25        0.0  \n",
       "49        0.0  "
      ]
     },
     "execution_count": 13,
     "metadata": {},
     "output_type": "execute_result"
    }
   ],
   "source": [
    "a_roots_df_melt = pd.melt(a_roots_df, id_vars=['a', 'a_exp', 'a_rounded'], var_name='roots', value_name='values')\n",
    "a_roots_df_melt = a_roots_df_melt.sort_values(by=['a'])\n",
    "a_roots_df_melt['real'] = a_roots_df_melt['values'].real\n",
    "a_roots_df_melt['imaginary'] = a_roots_df_melt['values'].imag\n",
    "\n",
    "print(a_roots_df_melt.shape)\n",
    "a_roots_df_melt.head(10)"
   ]
  },
  {
   "cell_type": "code",
   "execution_count": 14,
   "metadata": {},
   "outputs": [
    {
     "data": {
      "image/png": "[encoded data removed]",
      "text/plain": [
       "<Figure size 750x500 with 1 Axes>"
      ]
     },
     "metadata": {
      "needs_background": "light"
     },
     "output_type": "display_data"
    }
   ],
   "source": [
    "#a_roots_df_melt_nan = a_roots_df_melt.replace(-math.inf, -10.5) # np.nan, for legend to work\n",
    "a_roots_df_melt_nan = a_roots_df_melt.replace(float('-inf'), np.nan)\n",
    "\n",
    "cmap = 'rainbow'\n",
    "#cmap = sns.color_palette('pastel', n_colors=22)\n",
    "roots_plot = sns.scatterplot(x='real', y='imaginary', data=a_roots_df_melt_nan, \n",
    "                             hue='a_exp', size='a_exp', legend='full', palette=cmap)\n",
    "\n",
    "handles, labels = roots_plot.get_legend_handles_labels()\n",
    "display_labels = [{float(label)} for label in labels[1::4]]\n",
    "roots_plot.legend(handles[1::4], ['$10^{}$'.format(label) for label in display_labels], title='value of $a$')\n",
    "roots_plot.set_title('polynomial roots')\n",
    "\n",
    "plt.grid(linestyle='-', linewidth=0.25)\n",
    "plt.show()"
   ]
  },
  {
   "cell_type": "markdown",
   "metadata": {},
   "source": [
    "### Statistical analyses "
   ]
  },
  {
   "cell_type": "code",
   "execution_count": 15,
   "metadata": {
    "scrolled": true
   },
   "outputs": [
    {
     "name": "stdout",
     "output_type": "stream",
     "text": [
      "(23, 5)\n"
     ]
    },
    {
     "data": {
      "text/html": [
       "<div>\n",
       "<style scoped>\n",
       "    .dataframe tbody tr th:only-of-type {\n",
       "        vertical-align: middle;\n",
       "    }\n",
       "\n",
       "    .dataframe tbody tr th {\n",
       "        vertical-align: top;\n",
       "    }\n",
       "\n",
       "    .dataframe thead th {\n",
       "        text-align: right;\n",
       "    }\n",
       "</style>\n",
       "<table border=\"1\" class=\"dataframe\">\n",
       "  <thead>\n",
       "    <tr style=\"text-align: right;\">\n",
       "      <th></th>\n",
       "      <th>a_exp</th>\n",
       "      <th>real_avg</th>\n",
       "      <th>real_std</th>\n",
       "      <th>imag_avg</th>\n",
       "      <th>imag_std</th>\n",
       "    </tr>\n",
       "  </thead>\n",
       "  <tbody>\n",
       "    <tr>\n",
       "      <th>0</th>\n",
       "      <td>-inf</td>\n",
       "      <td>2.000000</td>\n",
       "      <td>1.000000</td>\n",
       "      <td>0.0</td>\n",
       "      <td>0.0</td>\n",
       "    </tr>\n",
       "    <tr>\n",
       "      <th>1</th>\n",
       "      <td>-10.0</td>\n",
       "      <td>2.000000</td>\n",
       "      <td>1.000000</td>\n",
       "      <td>0.0</td>\n",
       "      <td>0.0</td>\n",
       "    </tr>\n",
       "    <tr>\n",
       "      <th>2</th>\n",
       "      <td>-9.5</td>\n",
       "      <td>2.000000</td>\n",
       "      <td>1.000000</td>\n",
       "      <td>0.0</td>\n",
       "      <td>0.0</td>\n",
       "    </tr>\n",
       "    <tr>\n",
       "      <th>3</th>\n",
       "      <td>-9.0</td>\n",
       "      <td>2.000000</td>\n",
       "      <td>1.000000</td>\n",
       "      <td>0.0</td>\n",
       "      <td>0.0</td>\n",
       "    </tr>\n",
       "    <tr>\n",
       "      <th>4</th>\n",
       "      <td>-8.5</td>\n",
       "      <td>2.000000</td>\n",
       "      <td>1.000000</td>\n",
       "      <td>0.0</td>\n",
       "      <td>0.0</td>\n",
       "    </tr>\n",
       "    <tr>\n",
       "      <th>5</th>\n",
       "      <td>-8.0</td>\n",
       "      <td>2.000000</td>\n",
       "      <td>1.000000</td>\n",
       "      <td>0.0</td>\n",
       "      <td>0.0</td>\n",
       "    </tr>\n",
       "    <tr>\n",
       "      <th>6</th>\n",
       "      <td>-7.5</td>\n",
       "      <td>2.000000</td>\n",
       "      <td>0.999999</td>\n",
       "      <td>0.0</td>\n",
       "      <td>0.0</td>\n",
       "    </tr>\n",
       "    <tr>\n",
       "      <th>7</th>\n",
       "      <td>-7.0</td>\n",
       "      <td>2.000000</td>\n",
       "      <td>0.999999</td>\n",
       "      <td>0.0</td>\n",
       "      <td>0.0</td>\n",
       "    </tr>\n",
       "    <tr>\n",
       "      <th>8</th>\n",
       "      <td>-6.5</td>\n",
       "      <td>1.999999</td>\n",
       "      <td>0.999994</td>\n",
       "      <td>0.0</td>\n",
       "      <td>0.0</td>\n",
       "    </tr>\n",
       "    <tr>\n",
       "      <th>9</th>\n",
       "      <td>-6.0</td>\n",
       "      <td>2.000001</td>\n",
       "      <td>1.000000</td>\n",
       "      <td>0.0</td>\n",
       "      <td>0.0</td>\n",
       "    </tr>\n",
       "  </tbody>\n",
       "</table>\n",
       "</div>"
      ],
      "text/plain": [
       "   a_exp  real_avg  real_std  imag_avg  imag_std\n",
       "0   -inf  2.000000  1.000000       0.0       0.0\n",
       "1  -10.0  2.000000  1.000000       0.0       0.0\n",
       "2   -9.5  2.000000  1.000000       0.0       0.0\n",
       "3   -9.0  2.000000  1.000000       0.0       0.0\n",
       "4   -8.5  2.000000  1.000000       0.0       0.0\n",
       "5   -8.0  2.000000  1.000000       0.0       0.0\n",
       "6   -7.5  2.000000  0.999999       0.0       0.0\n",
       "7   -7.0  2.000000  0.999999       0.0       0.0\n",
       "8   -6.5  1.999999  0.999994       0.0       0.0\n",
       "9   -6.0  2.000001  1.000000       0.0       0.0"
      ]
     },
     "execution_count": 15,
     "metadata": {},
     "output_type": "execute_result"
    }
   ],
   "source": [
    "real_avg = a_roots_df_melt.groupby('a_exp')['real'].mean().reset_index().rename(columns={'real':'real_avg'})\n",
    "real_std = a_roots_df_melt.groupby('a_exp')['real'].std().reset_index().rename(columns={'real':'real_std'})\n",
    "imag_avg = a_roots_df_melt.groupby('a_exp')['imaginary'].mean().reset_index().rename(columns={'imaginary':'imag_avg'})\n",
    "imag_std = a_roots_df_melt.groupby('a_exp')['imaginary'].std().reset_index().rename(columns={'imaginary':'imag_std'})\n",
    "\n",
    "a_roots_df_melt_stats = pd.concat([real_avg, real_std, imag_avg, imag_std], axis=1)\n",
    "a_roots_df_melt_stats = a_roots_df_melt_stats.loc[:,~a_roots_df_melt_stats.columns.duplicated()]\n",
    "\n",
    "print(a_roots_df_melt_stats.shape)\n",
    "a_roots_df_melt_stats.head(10)"
   ]
  },
  {
   "cell_type": "code",
   "execution_count": 16,
   "metadata": {},
   "outputs": [
    {
     "data": {
      "image/png": "[encoded data removed]",
      "text/plain": [
       "<Figure size 750x500 with 1 Axes>"
      ]
     },
     "metadata": {
      "needs_background": "light"
     },
     "output_type": "display_data"
    }
   ],
   "source": [
    "x, y = list(a_roots_df_melt_stats['real_avg']), list(a_roots_df_melt_stats['imag_avg'])\n",
    "x_err, y_err = list(a_roots_df_melt_stats['real_std']), list(a_roots_df_melt_stats['imag_std'])\n",
    "labels = list(a_roots_df_melt_stats['a_exp'])\n",
    "float_labels = [{float(label)} for label in labels]\n",
    "display_labels = ['$10^{}$'.format(label) for label in float_labels]\n",
    "\n",
    "#plt.errorbar(x, y, yerr=y_err, xerr=x_err, elinewidth=0.5, capsize=2.5, ms=4, \n",
    "#             markerfacecolor='black', markeredgecolor='black', fmt='o', ecolor='blue')\n",
    "\n",
    "n = len(x)\n",
    "colors = pl.cm.jet(np.linspace(0,1,n))\n",
    "for i in range(n):\n",
    "    plt.errorbar(x[i], y[i], yerr=y_err[i], xerr=x_err[i], elinewidth=0.5, capsize=2.5, ms=8,\n",
    "                 markerfacecolor=colors[i], markeredgecolor='black', markeredgewidth=0.5, \n",
    "                 fmt='o', ecolor=colors[i], alpha=0.75,\n",
    "                 label='_nolegend_' if (i+1)%2 != 0 else display_labels[i]) #label=display_labels[i]\n",
    "    \n",
    "plt.xlabel('real')\n",
    "plt.ylabel('imaginary')\n",
    "plt.title('polynomial root $\\mu$ and $\\sigma$ values') # mean and standard deviations of roots by 'a' value\n",
    "plt.grid(linestyle='-', linewidth=0.25)\n",
    "plt.legend(title='value of $a$')\n",
    "plt.show()"
   ]
  },
  {
   "cell_type": "code",
   "execution_count": 17,
   "metadata": {},
   "outputs": [
    {
     "name": "stdout",
     "output_type": "stream",
     "text": [
      "(92, 3)\n"
     ]
    },
    {
     "data": {
      "text/html": [
       "<div>\n",
       "<style scoped>\n",
       "    .dataframe tbody tr th:only-of-type {\n",
       "        vertical-align: middle;\n",
       "    }\n",
       "\n",
       "    .dataframe tbody tr th {\n",
       "        vertical-align: top;\n",
       "    }\n",
       "\n",
       "    .dataframe thead th {\n",
       "        text-align: right;\n",
       "    }\n",
       "</style>\n",
       "<table border=\"1\" class=\"dataframe\">\n",
       "  <thead>\n",
       "    <tr style=\"text-align: right;\">\n",
       "      <th></th>\n",
       "      <th>a_exp</th>\n",
       "      <th>statistic</th>\n",
       "      <th>val</th>\n",
       "    </tr>\n",
       "  </thead>\n",
       "  <tbody>\n",
       "    <tr>\n",
       "      <th>0</th>\n",
       "      <td>-inf</td>\n",
       "      <td>real_avg</td>\n",
       "      <td>2.0</td>\n",
       "    </tr>\n",
       "    <tr>\n",
       "      <th>1</th>\n",
       "      <td>-10.0</td>\n",
       "      <td>real_avg</td>\n",
       "      <td>2.0</td>\n",
       "    </tr>\n",
       "    <tr>\n",
       "      <th>2</th>\n",
       "      <td>-9.5</td>\n",
       "      <td>real_avg</td>\n",
       "      <td>2.0</td>\n",
       "    </tr>\n",
       "    <tr>\n",
       "      <th>3</th>\n",
       "      <td>-9.0</td>\n",
       "      <td>real_avg</td>\n",
       "      <td>2.0</td>\n",
       "    </tr>\n",
       "    <tr>\n",
       "      <th>4</th>\n",
       "      <td>-8.5</td>\n",
       "      <td>real_avg</td>\n",
       "      <td>2.0</td>\n",
       "    </tr>\n",
       "  </tbody>\n",
       "</table>\n",
       "</div>"
      ],
      "text/plain": [
       "   a_exp statistic  val\n",
       "0   -inf  real_avg  2.0\n",
       "1  -10.0  real_avg  2.0\n",
       "2   -9.5  real_avg  2.0\n",
       "3   -9.0  real_avg  2.0\n",
       "4   -8.5  real_avg  2.0"
      ]
     },
     "execution_count": 17,
     "metadata": {},
     "output_type": "execute_result"
    }
   ],
   "source": [
    "stats_melt = pd.melt(a_roots_df_melt_stats, id_vars='a_exp', var_name='statistic', value_name='val')\n",
    "print(stats_melt.shape)\n",
    "stats_melt.head()"
   ]
  },
  {
   "cell_type": "code",
   "execution_count": 18,
   "metadata": {},
   "outputs": [
    {
     "data": {
      "image/png": "[encoded data removed]",
      "text/plain": [
       "<Figure size 1203.67x800 with 1 Axes>"
      ]
     },
     "metadata": {
      "needs_background": "light"
     },
     "output_type": "display_data"
    }
   ],
   "source": [
    "# for legend\n",
    "stats_melt = stats_melt.replace('real_avg', '$\\mu_{real}$')\n",
    "stats_melt = stats_melt.replace('real_std', '$\\sigma_{real}$')\n",
    "stats_melt = stats_melt.replace('imag_avg', '$\\mu_{imaginary}$')\n",
    "stats_melt = stats_melt.replace('imag_std', '$\\sigma_{imaginary}$')\n",
    "\n",
    "# 'boxplot/display_xticklabels' because 'FacetGrid' object has no attribute 'get_xticklabels' \n",
    "barplot = sns.catplot(x='a_exp', y='val', hue='statistic', data=stats_melt, \n",
    "                      kind='bar', palette='rainbow', height=6.4, aspect=4/3)\n",
    "barplot.set_xticklabels(['$10^{}$'.format(label) for label in display_xlabels], rotation=60, horizontalalignment='center')\n",
    "barplot.set(xlabel='$a$')\n",
    "barplot.set(ylabel='statistic values')\n",
    "barplot.set(title='polynomial root $\\mu$ and $\\sigma$ values')\n",
    "\n",
    "sns.despine(top=False, right=False)\n",
    "plt.grid(linestyle='-', linewidth=0.25)\n",
    "plt.show()"
   ]
  }
 ],
 "metadata": {
  "kernelspec": {
   "display_name": "Python 3",
   "language": "python",
   "name": "python3"
  },
  "language_info": {
   "codemirror_mode": {
    "name": "ipython",
    "version": 3
   },
   "file_extension": ".py",
   "mimetype": "text/x-python",
   "name": "python",
   "nbconvert_exporter": "python",
   "pygments_lexer": "ipython3",
   "version": "3.7.3"
  }
 },
 "nbformat": 4,
 "nbformat_minor": 2
}
